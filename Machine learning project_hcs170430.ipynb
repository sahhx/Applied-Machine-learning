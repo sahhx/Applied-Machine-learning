{
 "cells": [
  {
   "cell_type": "markdown",
   "metadata": {},
   "source": [
    "# Predicting prices for Bitcoin"
   ]
  },
  {
   "cell_type": "markdown",
   "metadata": {},
   "source": [
    "### Project 1\n",
    "\n",
    "Project description:\n",
    "- Read data into Jupyter notebook, use pandas to import data into a data frame\n",
    "- preprocess data: explore data, address missing data, categorical data, if there is any, and data scaling. Justify the type of scaling used in this project. \n",
    "- train your dataset using all the linear regression models you've learned so far. If your model has a scaling parameter(s) use Grid Search to find the best scaling parameter. Use plots and graphs to help you get a better glimpse of the results. \n",
    "- Then use cross validation to find average training and testing score. \n",
    "- Your submission should have at least the following regression models: KNN repressor, linear regression, Ridge, Lasso, polynomial regression, SVM both simple and with kernels. \n",
    "- Finally find the best repressor for this dataset and train your model on the entire dataset using the best parameters and predict the market price for the test_set.\n",
    "- submit IPython notebook. Use markdown to provide an inline report for this project."
   ]
  },
  {
   "cell_type": "markdown",
   "metadata": {},
   "source": [
    "#### Importing the required python libraries"
   ]
  },
  {
   "cell_type": "code",
   "execution_count": 3,
   "metadata": {},
   "outputs": [],
   "source": [
    "import pandas as pd\n",
    "import seaborn as sns\n",
    "import matplotlib.pyplot as plt\n",
    "import numpy as np\n",
    "import datetime\n",
    "from sklearn import cross_validation\n",
    "from sklearn.neighbors import KNeighborsRegressor\n",
    "from sklearn.svm import SVR\n",
    "import sklearn\n",
    "from sklearn.model_selection import train_test_split\n",
    "from sklearn.model_selection import KFold\n",
    "from sklearn.model_selection import cross_val_score\n",
    "from sklearn import metrics\n",
    "from sklearn.linear_model import Ridge\n",
    "from sklearn.linear_model import Lasso\n",
    "from sklearn import preprocessing\n",
    "from sklearn.grid_search import GridSearchCV\n",
    "from sklearn.preprocessing import MinMaxScaler\n",
    "from sklearn.preprocessing import PolynomialFeatures\n",
    "from sklearn.pipeline import Pipeline\n",
    "from sklearn.model_selection import cross_val_score\n",
    "import os"
   ]
  },
  {
   "cell_type": "markdown",
   "metadata": {},
   "source": [
    "#### Importing the datasets"
   ]
  },
  {
   "cell_type": "code",
   "execution_count": 4,
   "metadata": {},
   "outputs": [
    {
     "data": {
      "text/html": [
       "<div>\n",
       "<style>\n",
       "    .dataframe thead tr:only-child th {\n",
       "        text-align: right;\n",
       "    }\n",
       "\n",
       "    .dataframe thead th {\n",
       "        text-align: left;\n",
       "    }\n",
       "\n",
       "    .dataframe tbody tr th {\n",
       "        vertical-align: top;\n",
       "    }\n",
       "</style>\n",
       "<table border=\"1\" class=\"dataframe\">\n",
       "  <thead>\n",
       "    <tr style=\"text-align: right;\">\n",
       "      <th></th>\n",
       "      <th>Date</th>\n",
       "      <th>btc_market_price</th>\n",
       "      <th>btc_total_bitcoins</th>\n",
       "      <th>btc_market_cap</th>\n",
       "      <th>btc_trade_volume</th>\n",
       "      <th>btc_blocks_size</th>\n",
       "      <th>btc_avg_block_size</th>\n",
       "      <th>btc_n_orphaned_blocks</th>\n",
       "      <th>btc_n_transactions_per_block</th>\n",
       "      <th>btc_median_confirmation_time</th>\n",
       "      <th>...</th>\n",
       "      <th>btc_cost_per_transaction_percent</th>\n",
       "      <th>btc_cost_per_transaction</th>\n",
       "      <th>btc_n_unique_addresses</th>\n",
       "      <th>btc_n_transactions</th>\n",
       "      <th>btc_n_transactions_total</th>\n",
       "      <th>btc_n_transactions_excluding_popular</th>\n",
       "      <th>btc_n_transactions_excluding_chains_longer_than_100</th>\n",
       "      <th>btc_output_volume</th>\n",
       "      <th>btc_estimated_transaction_volume</th>\n",
       "      <th>btc_estimated_transaction_volume_usd</th>\n",
       "    </tr>\n",
       "  </thead>\n",
       "  <tbody>\n",
       "    <tr>\n",
       "      <th>0</th>\n",
       "      <td>2/17/2010 0:00</td>\n",
       "      <td>0.0</td>\n",
       "      <td>2043200.0</td>\n",
       "      <td>0.0</td>\n",
       "      <td>0.0</td>\n",
       "      <td>0.0</td>\n",
       "      <td>0.000235</td>\n",
       "      <td>0</td>\n",
       "      <td>1.0</td>\n",
       "      <td>0.0</td>\n",
       "      <td>...</td>\n",
       "      <td>31.781022</td>\n",
       "      <td>0.0</td>\n",
       "      <td>241</td>\n",
       "      <td>244</td>\n",
       "      <td>41240</td>\n",
       "      <td>244</td>\n",
       "      <td>244</td>\n",
       "      <td>65173.13</td>\n",
       "      <td>36500.0</td>\n",
       "      <td>0.0</td>\n",
       "    </tr>\n",
       "    <tr>\n",
       "      <th>1</th>\n",
       "      <td>2/18/2010 0:00</td>\n",
       "      <td>0.0</td>\n",
       "      <td>2054650.0</td>\n",
       "      <td>0.0</td>\n",
       "      <td>0.0</td>\n",
       "      <td>0.0</td>\n",
       "      <td>0.000241</td>\n",
       "      <td>0</td>\n",
       "      <td>1.0</td>\n",
       "      <td>0.0</td>\n",
       "      <td>...</td>\n",
       "      <td>154.463801</td>\n",
       "      <td>0.0</td>\n",
       "      <td>234</td>\n",
       "      <td>235</td>\n",
       "      <td>41475</td>\n",
       "      <td>235</td>\n",
       "      <td>235</td>\n",
       "      <td>18911.74</td>\n",
       "      <td>7413.0</td>\n",
       "      <td>0.0</td>\n",
       "    </tr>\n",
       "    <tr>\n",
       "      <th>2</th>\n",
       "      <td>2/19/2010 0:00</td>\n",
       "      <td>0.0</td>\n",
       "      <td>2063600.0</td>\n",
       "      <td>0.0</td>\n",
       "      <td>0.0</td>\n",
       "      <td>0.0</td>\n",
       "      <td>0.000228</td>\n",
       "      <td>0</td>\n",
       "      <td>1.0</td>\n",
       "      <td>0.0</td>\n",
       "      <td>...</td>\n",
       "      <td>1278.516635</td>\n",
       "      <td>0.0</td>\n",
       "      <td>185</td>\n",
       "      <td>183</td>\n",
       "      <td>41658</td>\n",
       "      <td>183</td>\n",
       "      <td>183</td>\n",
       "      <td>9749.98</td>\n",
       "      <td>700.0</td>\n",
       "      <td>0.0</td>\n",
       "    </tr>\n",
       "    <tr>\n",
       "      <th>3</th>\n",
       "      <td>2/20/2010 0:00</td>\n",
       "      <td>0.0</td>\n",
       "      <td>2074700.0</td>\n",
       "      <td>0.0</td>\n",
       "      <td>0.0</td>\n",
       "      <td>0.0</td>\n",
       "      <td>0.000218</td>\n",
       "      <td>0</td>\n",
       "      <td>1.0</td>\n",
       "      <td>0.0</td>\n",
       "      <td>...</td>\n",
       "      <td>22186.687990</td>\n",
       "      <td>0.0</td>\n",
       "      <td>224</td>\n",
       "      <td>224</td>\n",
       "      <td>41882</td>\n",
       "      <td>224</td>\n",
       "      <td>224</td>\n",
       "      <td>11150.03</td>\n",
       "      <td>50.0</td>\n",
       "      <td>0.0</td>\n",
       "    </tr>\n",
       "    <tr>\n",
       "      <th>4</th>\n",
       "      <td>2/21/2010 0:00</td>\n",
       "      <td>0.0</td>\n",
       "      <td>2085400.0</td>\n",
       "      <td>0.0</td>\n",
       "      <td>0.0</td>\n",
       "      <td>0.0</td>\n",
       "      <td>0.000234</td>\n",
       "      <td>0</td>\n",
       "      <td>1.0</td>\n",
       "      <td>0.0</td>\n",
       "      <td>...</td>\n",
       "      <td>689.179876</td>\n",
       "      <td>0.0</td>\n",
       "      <td>218</td>\n",
       "      <td>218</td>\n",
       "      <td>42100</td>\n",
       "      <td>218</td>\n",
       "      <td>218</td>\n",
       "      <td>12266.83</td>\n",
       "      <td>1553.0</td>\n",
       "      <td>0.0</td>\n",
       "    </tr>\n",
       "    <tr>\n",
       "      <th>5</th>\n",
       "      <td>2/22/2010 0:00</td>\n",
       "      <td>0.0</td>\n",
       "      <td>2098150.0</td>\n",
       "      <td>0.0</td>\n",
       "      <td>0.0</td>\n",
       "      <td>0.0</td>\n",
       "      <td>0.000384</td>\n",
       "      <td>0</td>\n",
       "      <td>1.0</td>\n",
       "      <td>0.0</td>\n",
       "      <td>...</td>\n",
       "      <td>65.214056</td>\n",
       "      <td>0.0</td>\n",
       "      <td>262</td>\n",
       "      <td>261</td>\n",
       "      <td>42361</td>\n",
       "      <td>261</td>\n",
       "      <td>261</td>\n",
       "      <td>32350.00</td>\n",
       "      <td>19551.0</td>\n",
       "      <td>0.0</td>\n",
       "    </tr>\n",
       "    <tr>\n",
       "      <th>6</th>\n",
       "      <td>2/23/2010 0:00</td>\n",
       "      <td>0.0</td>\n",
       "      <td>2110700.0</td>\n",
       "      <td>0.0</td>\n",
       "      <td>0.0</td>\n",
       "      <td>0.0</td>\n",
       "      <td>0.000216</td>\n",
       "      <td>0</td>\n",
       "      <td>1.0</td>\n",
       "      <td>0.0</td>\n",
       "      <td>...</td>\n",
       "      <td>25100.000000</td>\n",
       "      <td>0.0</td>\n",
       "      <td>252</td>\n",
       "      <td>252</td>\n",
       "      <td>42613</td>\n",
       "      <td>252</td>\n",
       "      <td>252</td>\n",
       "      <td>12600.00</td>\n",
       "      <td>50.0</td>\n",
       "      <td>0.0</td>\n",
       "    </tr>\n",
       "    <tr>\n",
       "      <th>7</th>\n",
       "      <td>2/24/2010 0:00</td>\n",
       "      <td>0.0</td>\n",
       "      <td>2120200.0</td>\n",
       "      <td>0.0</td>\n",
       "      <td>0.0</td>\n",
       "      <td>0.0</td>\n",
       "      <td>0.000282</td>\n",
       "      <td>0</td>\n",
       "      <td>1.0</td>\n",
       "      <td>0.0</td>\n",
       "      <td>...</td>\n",
       "      <td>179.245283</td>\n",
       "      <td>0.0</td>\n",
       "      <td>195</td>\n",
       "      <td>196</td>\n",
       "      <td>42809</td>\n",
       "      <td>196</td>\n",
       "      <td>196</td>\n",
       "      <td>14800.00</td>\n",
       "      <td>5300.0</td>\n",
       "      <td>0.0</td>\n",
       "    </tr>\n",
       "    <tr>\n",
       "      <th>8</th>\n",
       "      <td>2/25/2010 0:00</td>\n",
       "      <td>0.0</td>\n",
       "      <td>2127600.0</td>\n",
       "      <td>0.0</td>\n",
       "      <td>0.0</td>\n",
       "      <td>0.0</td>\n",
       "      <td>0.000227</td>\n",
       "      <td>0</td>\n",
       "      <td>1.0</td>\n",
       "      <td>0.0</td>\n",
       "      <td>...</td>\n",
       "      <td>1057.142857</td>\n",
       "      <td>0.0</td>\n",
       "      <td>150</td>\n",
       "      <td>150</td>\n",
       "      <td>42959</td>\n",
       "      <td>150</td>\n",
       "      <td>150</td>\n",
       "      <td>8100.00</td>\n",
       "      <td>700.0</td>\n",
       "      <td>0.0</td>\n",
       "    </tr>\n",
       "    <tr>\n",
       "      <th>9</th>\n",
       "      <td>2/26/2010 0:00</td>\n",
       "      <td>0.0</td>\n",
       "      <td>2136100.0</td>\n",
       "      <td>0.0</td>\n",
       "      <td>0.0</td>\n",
       "      <td>0.0</td>\n",
       "      <td>0.000319</td>\n",
       "      <td>0</td>\n",
       "      <td>1.0</td>\n",
       "      <td>0.0</td>\n",
       "      <td>...</td>\n",
       "      <td>64.582059</td>\n",
       "      <td>0.0</td>\n",
       "      <td>176</td>\n",
       "      <td>176</td>\n",
       "      <td>43135</td>\n",
       "      <td>176</td>\n",
       "      <td>176</td>\n",
       "      <td>29349.00</td>\n",
       "      <td>13162.0</td>\n",
       "      <td>0.0</td>\n",
       "    </tr>\n",
       "  </tbody>\n",
       "</table>\n",
       "<p>10 rows × 24 columns</p>\n",
       "</div>"
      ],
      "text/plain": [
       "             Date  btc_market_price  btc_total_bitcoins  btc_market_cap  \\\n",
       "0  2/17/2010 0:00               0.0           2043200.0             0.0   \n",
       "1  2/18/2010 0:00               0.0           2054650.0             0.0   \n",
       "2  2/19/2010 0:00               0.0           2063600.0             0.0   \n",
       "3  2/20/2010 0:00               0.0           2074700.0             0.0   \n",
       "4  2/21/2010 0:00               0.0           2085400.0             0.0   \n",
       "5  2/22/2010 0:00               0.0           2098150.0             0.0   \n",
       "6  2/23/2010 0:00               0.0           2110700.0             0.0   \n",
       "7  2/24/2010 0:00               0.0           2120200.0             0.0   \n",
       "8  2/25/2010 0:00               0.0           2127600.0             0.0   \n",
       "9  2/26/2010 0:00               0.0           2136100.0             0.0   \n",
       "\n",
       "   btc_trade_volume  btc_blocks_size  btc_avg_block_size  \\\n",
       "0               0.0              0.0            0.000235   \n",
       "1               0.0              0.0            0.000241   \n",
       "2               0.0              0.0            0.000228   \n",
       "3               0.0              0.0            0.000218   \n",
       "4               0.0              0.0            0.000234   \n",
       "5               0.0              0.0            0.000384   \n",
       "6               0.0              0.0            0.000216   \n",
       "7               0.0              0.0            0.000282   \n",
       "8               0.0              0.0            0.000227   \n",
       "9               0.0              0.0            0.000319   \n",
       "\n",
       "   btc_n_orphaned_blocks  btc_n_transactions_per_block  \\\n",
       "0                      0                           1.0   \n",
       "1                      0                           1.0   \n",
       "2                      0                           1.0   \n",
       "3                      0                           1.0   \n",
       "4                      0                           1.0   \n",
       "5                      0                           1.0   \n",
       "6                      0                           1.0   \n",
       "7                      0                           1.0   \n",
       "8                      0                           1.0   \n",
       "9                      0                           1.0   \n",
       "\n",
       "   btc_median_confirmation_time                  ...                   \\\n",
       "0                           0.0                  ...                    \n",
       "1                           0.0                  ...                    \n",
       "2                           0.0                  ...                    \n",
       "3                           0.0                  ...                    \n",
       "4                           0.0                  ...                    \n",
       "5                           0.0                  ...                    \n",
       "6                           0.0                  ...                    \n",
       "7                           0.0                  ...                    \n",
       "8                           0.0                  ...                    \n",
       "9                           0.0                  ...                    \n",
       "\n",
       "   btc_cost_per_transaction_percent  btc_cost_per_transaction  \\\n",
       "0                         31.781022                       0.0   \n",
       "1                        154.463801                       0.0   \n",
       "2                       1278.516635                       0.0   \n",
       "3                      22186.687990                       0.0   \n",
       "4                        689.179876                       0.0   \n",
       "5                         65.214056                       0.0   \n",
       "6                      25100.000000                       0.0   \n",
       "7                        179.245283                       0.0   \n",
       "8                       1057.142857                       0.0   \n",
       "9                         64.582059                       0.0   \n",
       "\n",
       "   btc_n_unique_addresses  btc_n_transactions  btc_n_transactions_total  \\\n",
       "0                     241                 244                     41240   \n",
       "1                     234                 235                     41475   \n",
       "2                     185                 183                     41658   \n",
       "3                     224                 224                     41882   \n",
       "4                     218                 218                     42100   \n",
       "5                     262                 261                     42361   \n",
       "6                     252                 252                     42613   \n",
       "7                     195                 196                     42809   \n",
       "8                     150                 150                     42959   \n",
       "9                     176                 176                     43135   \n",
       "\n",
       "   btc_n_transactions_excluding_popular  \\\n",
       "0                                   244   \n",
       "1                                   235   \n",
       "2                                   183   \n",
       "3                                   224   \n",
       "4                                   218   \n",
       "5                                   261   \n",
       "6                                   252   \n",
       "7                                   196   \n",
       "8                                   150   \n",
       "9                                   176   \n",
       "\n",
       "   btc_n_transactions_excluding_chains_longer_than_100  btc_output_volume  \\\n",
       "0                                                244             65173.13   \n",
       "1                                                235             18911.74   \n",
       "2                                                183              9749.98   \n",
       "3                                                224             11150.03   \n",
       "4                                                218             12266.83   \n",
       "5                                                261             32350.00   \n",
       "6                                                252             12600.00   \n",
       "7                                                196             14800.00   \n",
       "8                                                150              8100.00   \n",
       "9                                                176             29349.00   \n",
       "\n",
       "   btc_estimated_transaction_volume  btc_estimated_transaction_volume_usd  \n",
       "0                           36500.0                                   0.0  \n",
       "1                            7413.0                                   0.0  \n",
       "2                             700.0                                   0.0  \n",
       "3                              50.0                                   0.0  \n",
       "4                            1553.0                                   0.0  \n",
       "5                           19551.0                                   0.0  \n",
       "6                              50.0                                   0.0  \n",
       "7                            5300.0                                   0.0  \n",
       "8                             700.0                                   0.0  \n",
       "9                           13162.0                                   0.0  \n",
       "\n",
       "[10 rows x 24 columns]"
      ]
     },
     "execution_count": 4,
     "metadata": {},
     "output_type": "execute_result"
    }
   ],
   "source": [
    "data = pd.read_csv(r\"D:\\Box Sync\\University of Texas\\Spring 2018\\BUAN 6341\\Project\\bitcoin_dataset.csv\")\n",
    "testData =pd.read_csv(r\"D:\\Box Sync\\University of Texas\\Spring 2018\\BUAN 6341\\Project\\test_set.csv\")\n",
    "data.head(10)"
   ]
  },
  {
   "cell_type": "markdown",
   "metadata": {},
   "source": [
    "#### Getting an overview of data statistics"
   ]
  },
  {
   "cell_type": "code",
   "execution_count": 5,
   "metadata": {},
   "outputs": [
    {
     "data": {
      "text/html": [
       "<div>\n",
       "<style>\n",
       "    .dataframe thead tr:only-child th {\n",
       "        text-align: right;\n",
       "    }\n",
       "\n",
       "    .dataframe thead th {\n",
       "        text-align: left;\n",
       "    }\n",
       "\n",
       "    .dataframe tbody tr th {\n",
       "        vertical-align: top;\n",
       "    }\n",
       "</style>\n",
       "<table border=\"1\" class=\"dataframe\">\n",
       "  <thead>\n",
       "    <tr style=\"text-align: right;\">\n",
       "      <th></th>\n",
       "      <th>btc_market_price</th>\n",
       "      <th>btc_total_bitcoins</th>\n",
       "      <th>btc_market_cap</th>\n",
       "      <th>btc_trade_volume</th>\n",
       "      <th>btc_blocks_size</th>\n",
       "      <th>btc_avg_block_size</th>\n",
       "      <th>btc_n_orphaned_blocks</th>\n",
       "      <th>btc_n_transactions_per_block</th>\n",
       "      <th>btc_median_confirmation_time</th>\n",
       "      <th>btc_hash_rate</th>\n",
       "      <th>...</th>\n",
       "      <th>btc_cost_per_transaction_percent</th>\n",
       "      <th>btc_cost_per_transaction</th>\n",
       "      <th>btc_n_unique_addresses</th>\n",
       "      <th>btc_n_transactions</th>\n",
       "      <th>btc_n_transactions_total</th>\n",
       "      <th>btc_n_transactions_excluding_popular</th>\n",
       "      <th>btc_n_transactions_excluding_chains_longer_than_100</th>\n",
       "      <th>btc_output_volume</th>\n",
       "      <th>btc_estimated_transaction_volume</th>\n",
       "      <th>btc_estimated_transaction_volume_usd</th>\n",
       "    </tr>\n",
       "  </thead>\n",
       "  <tbody>\n",
       "    <tr>\n",
       "      <th>count</th>\n",
       "      <td>2906.000000</td>\n",
       "      <td>2.879000e+03</td>\n",
       "      <td>2.906000e+03</td>\n",
       "      <td>2.885000e+03</td>\n",
       "      <td>2877.000000</td>\n",
       "      <td>2906.000000</td>\n",
       "      <td>2906.000000</td>\n",
       "      <td>2906.000000</td>\n",
       "      <td>2894.000000</td>\n",
       "      <td>2.906000e+03</td>\n",
       "      <td>...</td>\n",
       "      <td>2906.000000</td>\n",
       "      <td>2906.000000</td>\n",
       "      <td>2.906000e+03</td>\n",
       "      <td>2906.000000</td>\n",
       "      <td>2.906000e+03</td>\n",
       "      <td>2906.000000</td>\n",
       "      <td>2906.000000</td>\n",
       "      <td>2.906000e+03</td>\n",
       "      <td>2.906000e+03</td>\n",
       "      <td>2.906000e+03</td>\n",
       "    </tr>\n",
       "    <tr>\n",
       "      <th>mean</th>\n",
       "      <td>839.104218</td>\n",
       "      <td>1.151138e+07</td>\n",
       "      <td>1.344255e+10</td>\n",
       "      <td>7.398381e+07</td>\n",
       "      <td>35505.502848</td>\n",
       "      <td>0.350366</td>\n",
       "      <td>0.364074</td>\n",
       "      <td>671.673651</td>\n",
       "      <td>7.501113</td>\n",
       "      <td>1.244070e+06</td>\n",
       "      <td>...</td>\n",
       "      <td>66.747821</td>\n",
       "      <td>14.639125</td>\n",
       "      <td>1.937861e+05</td>\n",
       "      <td>102081.138334</td>\n",
       "      <td>6.844558e+07</td>\n",
       "      <td>94348.852374</td>\n",
       "      <td>63140.320028</td>\n",
       "      <td>1.566216e+06</td>\n",
       "      <td>2.036475e+05</td>\n",
       "      <td>2.024338e+08</td>\n",
       "    </tr>\n",
       "    <tr>\n",
       "      <th>std</th>\n",
       "      <td>2304.972497</td>\n",
       "      <td>4.200024e+06</td>\n",
       "      <td>3.866150e+10</td>\n",
       "      <td>2.924228e+08</td>\n",
       "      <td>43618.633821</td>\n",
       "      <td>0.353168</td>\n",
       "      <td>0.842259</td>\n",
       "      <td>689.561322</td>\n",
       "      <td>4.974549</td>\n",
       "      <td>2.924141e+06</td>\n",
       "      <td>...</td>\n",
       "      <td>1761.894646</td>\n",
       "      <td>20.536083</td>\n",
       "      <td>2.089146e+05</td>\n",
       "      <td>103896.929350</td>\n",
       "      <td>8.285341e+07</td>\n",
       "      <td>103966.111763</td>\n",
       "      <td>69687.052174</td>\n",
       "      <td>2.278910e+06</td>\n",
       "      <td>2.682781e+05</td>\n",
       "      <td>5.800513e+08</td>\n",
       "    </tr>\n",
       "    <tr>\n",
       "      <th>min</th>\n",
       "      <td>0.000000</td>\n",
       "      <td>2.043200e+06</td>\n",
       "      <td>0.000000e+00</td>\n",
       "      <td>0.000000e+00</td>\n",
       "      <td>0.000000</td>\n",
       "      <td>0.000216</td>\n",
       "      <td>0.000000</td>\n",
       "      <td>1.000000</td>\n",
       "      <td>0.000000</td>\n",
       "      <td>2.250000e-05</td>\n",
       "      <td>...</td>\n",
       "      <td>0.136531</td>\n",
       "      <td>0.000000</td>\n",
       "      <td>1.100000e+02</td>\n",
       "      <td>118.000000</td>\n",
       "      <td>4.124000e+04</td>\n",
       "      <td>118.000000</td>\n",
       "      <td>118.000000</td>\n",
       "      <td>6.150000e+03</td>\n",
       "      <td>7.000000e+00</td>\n",
       "      <td>0.000000e+00</td>\n",
       "    </tr>\n",
       "    <tr>\n",
       "      <th>25%</th>\n",
       "      <td>6.653465</td>\n",
       "      <td>8.485300e+06</td>\n",
       "      <td>5.363081e+07</td>\n",
       "      <td>2.916456e+05</td>\n",
       "      <td>781.000000</td>\n",
       "      <td>0.024177</td>\n",
       "      <td>0.000000</td>\n",
       "      <td>54.000000</td>\n",
       "      <td>6.066667</td>\n",
       "      <td>1.160880e+01</td>\n",
       "      <td>...</td>\n",
       "      <td>1.181945</td>\n",
       "      <td>4.156470</td>\n",
       "      <td>1.675475e+04</td>\n",
       "      <td>8025.250000</td>\n",
       "      <td>2.413376e+06</td>\n",
       "      <td>6813.500000</td>\n",
       "      <td>6765.500000</td>\n",
       "      <td>4.901712e+05</td>\n",
       "      <td>9.600325e+04</td>\n",
       "      <td>9.581680e+05</td>\n",
       "    </tr>\n",
       "    <tr>\n",
       "      <th>50%</th>\n",
       "      <td>235.130000</td>\n",
       "      <td>1.243115e+07</td>\n",
       "      <td>3.346869e+09</td>\n",
       "      <td>1.001414e+07</td>\n",
       "      <td>15183.000000</td>\n",
       "      <td>0.196022</td>\n",
       "      <td>0.000000</td>\n",
       "      <td>375.000000</td>\n",
       "      <td>7.916667</td>\n",
       "      <td>2.176189e+04</td>\n",
       "      <td>...</td>\n",
       "      <td>2.493564</td>\n",
       "      <td>7.822430</td>\n",
       "      <td>1.304450e+05</td>\n",
       "      <td>62337.000000</td>\n",
       "      <td>3.255271e+07</td>\n",
       "      <td>53483.000000</td>\n",
       "      <td>35283.500000</td>\n",
       "      <td>1.105205e+06</td>\n",
       "      <td>1.784685e+05</td>\n",
       "      <td>3.742576e+07</td>\n",
       "    </tr>\n",
       "    <tr>\n",
       "      <th>75%</th>\n",
       "      <td>594.191164</td>\n",
       "      <td>1.520051e+07</td>\n",
       "      <td>8.075525e+09</td>\n",
       "      <td>2.834038e+07</td>\n",
       "      <td>58293.000000</td>\n",
       "      <td>0.676065</td>\n",
       "      <td>0.000000</td>\n",
       "      <td>1232.995223</td>\n",
       "      <td>10.208333</td>\n",
       "      <td>1.035363e+06</td>\n",
       "      <td>...</td>\n",
       "      <td>5.915591</td>\n",
       "      <td>14.800589</td>\n",
       "      <td>3.603765e+05</td>\n",
       "      <td>190471.250000</td>\n",
       "      <td>1.080663e+08</td>\n",
       "      <td>185901.750000</td>\n",
       "      <td>113793.250000</td>\n",
       "      <td>2.031654e+06</td>\n",
       "      <td>2.588046e+05</td>\n",
       "      <td>1.312499e+08</td>\n",
       "    </tr>\n",
       "    <tr>\n",
       "      <th>max</th>\n",
       "      <td>19498.683330</td>\n",
       "      <td>1.683769e+07</td>\n",
       "      <td>3.265250e+11</td>\n",
       "      <td>5.352016e+09</td>\n",
       "      <td>154444.590300</td>\n",
       "      <td>1.110327</td>\n",
       "      <td>7.000000</td>\n",
       "      <td>2722.625000</td>\n",
       "      <td>47.733333</td>\n",
       "      <td>2.160975e+07</td>\n",
       "      <td>...</td>\n",
       "      <td>88571.428570</td>\n",
       "      <td>161.686071</td>\n",
       "      <td>1.072861e+06</td>\n",
       "      <td>490644.000000</td>\n",
       "      <td>2.966888e+08</td>\n",
       "      <td>470650.000000</td>\n",
       "      <td>318896.000000</td>\n",
       "      <td>4.599222e+07</td>\n",
       "      <td>5.825066e+06</td>\n",
       "      <td>5.760245e+09</td>\n",
       "    </tr>\n",
       "  </tbody>\n",
       "</table>\n",
       "<p>8 rows × 23 columns</p>\n",
       "</div>"
      ],
      "text/plain": [
       "       btc_market_price  btc_total_bitcoins  btc_market_cap  btc_trade_volume  \\\n",
       "count       2906.000000        2.879000e+03    2.906000e+03      2.885000e+03   \n",
       "mean         839.104218        1.151138e+07    1.344255e+10      7.398381e+07   \n",
       "std         2304.972497        4.200024e+06    3.866150e+10      2.924228e+08   \n",
       "min            0.000000        2.043200e+06    0.000000e+00      0.000000e+00   \n",
       "25%            6.653465        8.485300e+06    5.363081e+07      2.916456e+05   \n",
       "50%          235.130000        1.243115e+07    3.346869e+09      1.001414e+07   \n",
       "75%          594.191164        1.520051e+07    8.075525e+09      2.834038e+07   \n",
       "max        19498.683330        1.683769e+07    3.265250e+11      5.352016e+09   \n",
       "\n",
       "       btc_blocks_size  btc_avg_block_size  btc_n_orphaned_blocks  \\\n",
       "count      2877.000000         2906.000000            2906.000000   \n",
       "mean      35505.502848            0.350366               0.364074   \n",
       "std       43618.633821            0.353168               0.842259   \n",
       "min           0.000000            0.000216               0.000000   \n",
       "25%         781.000000            0.024177               0.000000   \n",
       "50%       15183.000000            0.196022               0.000000   \n",
       "75%       58293.000000            0.676065               0.000000   \n",
       "max      154444.590300            1.110327               7.000000   \n",
       "\n",
       "       btc_n_transactions_per_block  btc_median_confirmation_time  \\\n",
       "count                   2906.000000                   2894.000000   \n",
       "mean                     671.673651                      7.501113   \n",
       "std                      689.561322                      4.974549   \n",
       "min                        1.000000                      0.000000   \n",
       "25%                       54.000000                      6.066667   \n",
       "50%                      375.000000                      7.916667   \n",
       "75%                     1232.995223                     10.208333   \n",
       "max                     2722.625000                     47.733333   \n",
       "\n",
       "       btc_hash_rate                  ...                   \\\n",
       "count   2.906000e+03                  ...                    \n",
       "mean    1.244070e+06                  ...                    \n",
       "std     2.924141e+06                  ...                    \n",
       "min     2.250000e-05                  ...                    \n",
       "25%     1.160880e+01                  ...                    \n",
       "50%     2.176189e+04                  ...                    \n",
       "75%     1.035363e+06                  ...                    \n",
       "max     2.160975e+07                  ...                    \n",
       "\n",
       "       btc_cost_per_transaction_percent  btc_cost_per_transaction  \\\n",
       "count                       2906.000000               2906.000000   \n",
       "mean                          66.747821                 14.639125   \n",
       "std                         1761.894646                 20.536083   \n",
       "min                            0.136531                  0.000000   \n",
       "25%                            1.181945                  4.156470   \n",
       "50%                            2.493564                  7.822430   \n",
       "75%                            5.915591                 14.800589   \n",
       "max                        88571.428570                161.686071   \n",
       "\n",
       "       btc_n_unique_addresses  btc_n_transactions  btc_n_transactions_total  \\\n",
       "count            2.906000e+03         2906.000000              2.906000e+03   \n",
       "mean             1.937861e+05       102081.138334              6.844558e+07   \n",
       "std              2.089146e+05       103896.929350              8.285341e+07   \n",
       "min              1.100000e+02          118.000000              4.124000e+04   \n",
       "25%              1.675475e+04         8025.250000              2.413376e+06   \n",
       "50%              1.304450e+05        62337.000000              3.255271e+07   \n",
       "75%              3.603765e+05       190471.250000              1.080663e+08   \n",
       "max              1.072861e+06       490644.000000              2.966888e+08   \n",
       "\n",
       "       btc_n_transactions_excluding_popular  \\\n",
       "count                           2906.000000   \n",
       "mean                           94348.852374   \n",
       "std                           103966.111763   \n",
       "min                              118.000000   \n",
       "25%                             6813.500000   \n",
       "50%                            53483.000000   \n",
       "75%                           185901.750000   \n",
       "max                           470650.000000   \n",
       "\n",
       "       btc_n_transactions_excluding_chains_longer_than_100  btc_output_volume  \\\n",
       "count                                        2906.000000         2.906000e+03   \n",
       "mean                                        63140.320028         1.566216e+06   \n",
       "std                                         69687.052174         2.278910e+06   \n",
       "min                                           118.000000         6.150000e+03   \n",
       "25%                                          6765.500000         4.901712e+05   \n",
       "50%                                         35283.500000         1.105205e+06   \n",
       "75%                                        113793.250000         2.031654e+06   \n",
       "max                                        318896.000000         4.599222e+07   \n",
       "\n",
       "       btc_estimated_transaction_volume  btc_estimated_transaction_volume_usd  \n",
       "count                      2.906000e+03                          2.906000e+03  \n",
       "mean                       2.036475e+05                          2.024338e+08  \n",
       "std                        2.682781e+05                          5.800513e+08  \n",
       "min                        7.000000e+00                          0.000000e+00  \n",
       "25%                        9.600325e+04                          9.581680e+05  \n",
       "50%                        1.784685e+05                          3.742576e+07  \n",
       "75%                        2.588046e+05                          1.312499e+08  \n",
       "max                        5.825066e+06                          5.760245e+09  \n",
       "\n",
       "[8 rows x 23 columns]"
      ]
     },
     "execution_count": 5,
     "metadata": {},
     "output_type": "execute_result"
    }
   ],
   "source": [
    "data.describe()"
   ]
  },
  {
   "cell_type": "markdown",
   "metadata": {},
   "source": [
    "#### count the number of NaN values in each column"
   ]
  },
  {
   "cell_type": "code",
   "execution_count": 6,
   "metadata": {},
   "outputs": [
    {
     "data": {
      "text/plain": [
       "Date                                                    0\n",
       "btc_market_price                                        0\n",
       "btc_total_bitcoins                                     27\n",
       "btc_market_cap                                          0\n",
       "btc_trade_volume                                       21\n",
       "btc_blocks_size                                        29\n",
       "btc_avg_block_size                                      0\n",
       "btc_n_orphaned_blocks                                   0\n",
       "btc_n_transactions_per_block                            0\n",
       "btc_median_confirmation_time                           12\n",
       "btc_hash_rate                                           0\n",
       "btc_difficulty                                         16\n",
       "btc_miners_revenue                                      0\n",
       "btc_transaction_fees                                   10\n",
       "btc_cost_per_transaction_percent                        0\n",
       "btc_cost_per_transaction                                0\n",
       "btc_n_unique_addresses                                  0\n",
       "btc_n_transactions                                      0\n",
       "btc_n_transactions_total                                0\n",
       "btc_n_transactions_excluding_popular                    0\n",
       "btc_n_transactions_excluding_chains_longer_than_100     0\n",
       "btc_output_volume                                       0\n",
       "btc_estimated_transaction_volume                        0\n",
       "btc_estimated_transaction_volume_usd                    0\n",
       "dtype: int64"
      ]
     },
     "execution_count": 6,
     "metadata": {},
     "output_type": "execute_result"
    }
   ],
   "source": [
    "data.isnull().sum()"
   ]
  },
  {
   "cell_type": "markdown",
   "metadata": {},
   "source": [
    "A lot of columns have missing values in them. One possible solution will be to replace Nan Values with the median values for the year, provided the value are significantly different for all years"
   ]
  },
  {
   "cell_type": "markdown",
   "metadata": {},
   "source": [
    "#### converting date to datetype\n",
    "- Extracting year value from the date\n",
    "- Checking the trend of btc_total_bitcoins, btc_trade_volume across years"
   ]
  },
  {
   "cell_type": "code",
   "execution_count": 7,
   "metadata": {
    "scrolled": true
   },
   "outputs": [
    {
     "data": {
      "image/png": "[encoded data removed]",
      "text/plain": [
       "<matplotlib.figure.Figure at 0x25817f115f8>"
      ]
     },
     "metadata": {},
     "output_type": "display_data"
    },
    {
     "data": {
      "image/png": "[encoded data removed]",
      "text/plain": [
       "<matplotlib.figure.Figure at 0x2581941ff60>"
      ]
     },
     "metadata": {},
     "output_type": "display_data"
    }
   ],
   "source": [
    "data['Date'] = pd.to_datetime(data['Date'])\n",
    "data['year'] = data['Date'].dt.year\n",
    "g = sns.factorplot(\"year\", \"btc_total_bitcoins\", data=data, kind=\"box\",legend = False)\n",
    "g = sns.factorplot(\"year\", \"btc_trade_volume\" ,data=data, kind=\"box\", palette=\"muted\", legend=False)\n",
    "plt.show()"
   ]
  },
  {
   "cell_type": "markdown",
   "metadata": {},
   "source": [
    "#### Imputing the missing values\n",
    "The values of the variable seem to vary across the year, so we can use median value for the year to impute missing values\n"
   ]
  },
  {
   "cell_type": "code",
   "execution_count": 8,
   "metadata": {
    "collapsed": true
   },
   "outputs": [],
   "source": [
    "data['btc_trade_volume'] = data['btc_trade_volume'].fillna(data.groupby('year')['btc_trade_volume'].transform('median'))\n",
    "data['btc_total_bitcoins'] = data['btc_total_bitcoins'].fillna(data.groupby('year')['btc_total_bitcoins'].transform('median'))\n",
    "data['btc_blocks_size'] = data['btc_blocks_size'].fillna(data.groupby('year')['btc_blocks_size'].transform('median'))\n",
    "data['btc_transaction_fees'] = data['btc_transaction_fees'].fillna(data.groupby('year')['btc_transaction_fees'].transform('median'))\n",
    "data['btc_median_confirmation_time'] = data['btc_median_confirmation_time'].fillna(data.groupby('year')['btc_median_confirmation_time'].transform('median'))\n",
    "data['btc_difficulty'] = data['btc_difficulty'].fillna(data.groupby('year')['btc_difficulty'].transform('median'))"
   ]
  },
  {
   "cell_type": "markdown",
   "metadata": {},
   "source": [
    "#### Checking whether there are anymore missing values"
   ]
  },
  {
   "cell_type": "code",
   "execution_count": 9,
   "metadata": {},
   "outputs": [
    {
     "data": {
      "text/plain": [
       "Date                                                   0\n",
       "btc_market_price                                       0\n",
       "btc_total_bitcoins                                     0\n",
       "btc_market_cap                                         0\n",
       "btc_trade_volume                                       0\n",
       "btc_blocks_size                                        0\n",
       "btc_avg_block_size                                     0\n",
       "btc_n_orphaned_blocks                                  0\n",
       "btc_n_transactions_per_block                           0\n",
       "btc_median_confirmation_time                           0\n",
       "btc_hash_rate                                          0\n",
       "btc_difficulty                                         0\n",
       "btc_miners_revenue                                     0\n",
       "btc_transaction_fees                                   0\n",
       "btc_cost_per_transaction_percent                       0\n",
       "btc_cost_per_transaction                               0\n",
       "btc_n_unique_addresses                                 0\n",
       "btc_n_transactions                                     0\n",
       "btc_n_transactions_total                               0\n",
       "btc_n_transactions_excluding_popular                   0\n",
       "btc_n_transactions_excluding_chains_longer_than_100    0\n",
       "btc_output_volume                                      0\n",
       "btc_estimated_transaction_volume                       0\n",
       "btc_estimated_transaction_volume_usd                   0\n",
       "year                                                   0\n",
       "dtype: int64"
      ]
     },
     "execution_count": 9,
     "metadata": {},
     "output_type": "execute_result"
    }
   ],
   "source": [
    "data.isnull().sum()"
   ]
  },
  {
   "cell_type": "markdown",
   "metadata": {},
   "source": [
    "#### checking the correlation between various features\n",
    "Before we begin create our model, let's check the relation among variables\n",
    "- There seems to be a high correlation between a lot of variables. We need to reduce the number of variables before we can go ahead with the analysis"
   ]
  },
  {
   "cell_type": "code",
   "execution_count": 10,
   "metadata": {},
   "outputs": [
    {
     "data": {
      "image/png": "[encoded data removed]",
      "text/plain": [
       "<matplotlib.figure.Figure at 0x25817f18b38>"
      ]
     },
     "metadata": {},
     "output_type": "display_data"
    }
   ],
   "source": [
    "corr = data.corr()\n",
    "g=sns.heatmap(corr,xticklabels=corr.columns.values,yticklabels=corr.columns.values)\n",
    "plt.setp(g.get_xticklabels(), 'rotation', -90)\n",
    "plt.setp(g.get_yticklabels(), 'rotation', 0)\n",
    "plt.show()"
   ]
  },
  {
   "cell_type": "markdown",
   "metadata": {},
   "source": [
    "#### Splitting data in test and train"
   ]
  },
  {
   "cell_type": "code",
   "execution_count": 11,
   "metadata": {
    "collapsed": true
   },
   "outputs": [],
   "source": [
    "X = data.iloc[:,2:24]\n",
    "Y = data.iloc[:,[1]]\n",
    "validation_size = 0.30\n",
    "seed = 9\n",
    "X_train, X_validation, Y_train, Y_validation = train_test_split(X, Y, test_size=validation_size, random_state=seed)"
   ]
  },
  {
   "cell_type": "markdown",
   "metadata": {},
   "source": [
    "#### Checking the shape for test and train dataset"
   ]
  },
  {
   "cell_type": "code",
   "execution_count": 12,
   "metadata": {},
   "outputs": [
    {
     "name": "stdout",
     "output_type": "stream",
     "text": [
      "(2034, 22)\n",
      "(2034, 1)\n",
      "(872, 22)\n",
      "(872, 1)\n"
     ]
    }
   ],
   "source": [
    "print(X_train.shape)\n",
    "print(Y_train.shape)\n",
    "print(X_validation.shape)\n",
    "print(Y_validation.shape)"
   ]
  },
  {
   "cell_type": "markdown",
   "metadata": {},
   "source": [
    "#### Scaling the trainning data set before using the PCA\n",
    "- We are going to prefer the standardization over min-max scaling because for PCA we are interested in the components that maximize the variance\n",
    "- using min max saclling we will end up with smaller standard deviations, which can suppress the effect of outliers"
   ]
  },
  {
   "cell_type": "code",
   "execution_count": 13,
   "metadata": {},
   "outputs": [
    {
     "data": {
      "text/html": [
       "<div>\n",
       "<style>\n",
       "    .dataframe thead tr:only-child th {\n",
       "        text-align: right;\n",
       "    }\n",
       "\n",
       "    .dataframe thead th {\n",
       "        text-align: left;\n",
       "    }\n",
       "\n",
       "    .dataframe tbody tr th {\n",
       "        vertical-align: top;\n",
       "    }\n",
       "</style>\n",
       "<table border=\"1\" class=\"dataframe\">\n",
       "  <thead>\n",
       "    <tr style=\"text-align: right;\">\n",
       "      <th></th>\n",
       "      <th>btc_total_bitcoins</th>\n",
       "      <th>btc_market_cap</th>\n",
       "      <th>btc_trade_volume</th>\n",
       "      <th>btc_blocks_size</th>\n",
       "      <th>btc_avg_block_size</th>\n",
       "      <th>btc_n_orphaned_blocks</th>\n",
       "      <th>btc_n_transactions_per_block</th>\n",
       "      <th>btc_median_confirmation_time</th>\n",
       "      <th>btc_hash_rate</th>\n",
       "      <th>btc_difficulty</th>\n",
       "      <th>...</th>\n",
       "      <th>btc_cost_per_transaction_percent</th>\n",
       "      <th>btc_cost_per_transaction</th>\n",
       "      <th>btc_n_unique_addresses</th>\n",
       "      <th>btc_n_transactions</th>\n",
       "      <th>btc_n_transactions_total</th>\n",
       "      <th>btc_n_transactions_excluding_popular</th>\n",
       "      <th>btc_n_transactions_excluding_chains_longer_than_100</th>\n",
       "      <th>btc_output_volume</th>\n",
       "      <th>btc_estimated_transaction_volume</th>\n",
       "      <th>btc_estimated_transaction_volume_usd</th>\n",
       "    </tr>\n",
       "  </thead>\n",
       "  <tbody>\n",
       "    <tr>\n",
       "      <th>2690</th>\n",
       "      <td>16419900.0</td>\n",
       "      <td>4.068262e+10</td>\n",
       "      <td>1.037184e+08</td>\n",
       "      <td>122298.19290</td>\n",
       "      <td>0.956314</td>\n",
       "      <td>0</td>\n",
       "      <td>1736.103896</td>\n",
       "      <td>11.883333</td>\n",
       "      <td>5.448314e+06</td>\n",
       "      <td>7.116970e+11</td>\n",
       "      <td>...</td>\n",
       "      <td>0.752557</td>\n",
       "      <td>21.149026</td>\n",
       "      <td>533427</td>\n",
       "      <td>267360</td>\n",
       "      <td>236165171</td>\n",
       "      <td>259782</td>\n",
       "      <td>177910</td>\n",
       "      <td>3.475034e+06</td>\n",
       "      <td>303255.8655</td>\n",
       "      <td>751359279.5</td>\n",
       "    </tr>\n",
       "    <tr>\n",
       "      <th>2469</th>\n",
       "      <td>15999912.5</td>\n",
       "      <td>1.182314e+10</td>\n",
       "      <td>1.874184e+07</td>\n",
       "      <td>90883.41807</td>\n",
       "      <td>0.923046</td>\n",
       "      <td>1</td>\n",
       "      <td>2052.957143</td>\n",
       "      <td>17.300000</td>\n",
       "      <td>1.961176e+06</td>\n",
       "      <td>2.818010e+11</td>\n",
       "      <td>...</td>\n",
       "      <td>0.705658</td>\n",
       "      <td>4.744821</td>\n",
       "      <td>490392</td>\n",
       "      <td>287414</td>\n",
       "      <td>172676678</td>\n",
       "      <td>282436</td>\n",
       "      <td>202961</td>\n",
       "      <td>1.566281e+06</td>\n",
       "      <td>261528.2988</td>\n",
       "      <td>193256336.4</td>\n",
       "    </tr>\n",
       "    <tr>\n",
       "      <th>1414</th>\n",
       "      <td>12203800.0</td>\n",
       "      <td>9.115018e+09</td>\n",
       "      <td>1.490825e+07</td>\n",
       "      <td>13488.00000</td>\n",
       "      <td>0.102706</td>\n",
       "      <td>0</td>\n",
       "      <td>381.000000</td>\n",
       "      <td>6.466667</td>\n",
       "      <td>1.174080e+04</td>\n",
       "      <td>1.180923e+09</td>\n",
       "      <td>...</td>\n",
       "      <td>6.623609</td>\n",
       "      <td>90.202095</td>\n",
       "      <td>83356</td>\n",
       "      <td>41476</td>\n",
       "      <td>30246540</td>\n",
       "      <td>33625</td>\n",
       "      <td>23125</td>\n",
       "      <td>5.250079e+05</td>\n",
       "      <td>75623.0000</td>\n",
       "      <td>56483139.0</td>\n",
       "    </tr>\n",
       "    <tr>\n",
       "      <th>934</th>\n",
       "      <td>9894050.0</td>\n",
       "      <td>1.109123e+08</td>\n",
       "      <td>3.107030e+05</td>\n",
       "      <td>2619.00000</td>\n",
       "      <td>0.101257</td>\n",
       "      <td>0</td>\n",
       "      <td>192.000000</td>\n",
       "      <td>13.400000</td>\n",
       "      <td>1.874906e+01</td>\n",
       "      <td>2.694048e+06</td>\n",
       "      <td>...</td>\n",
       "      <td>3.956688</td>\n",
       "      <td>2.291331</td>\n",
       "      <td>30088</td>\n",
       "      <td>34359</td>\n",
       "      <td>6895008</td>\n",
       "      <td>14589</td>\n",
       "      <td>13086</td>\n",
       "      <td>1.147049e+07</td>\n",
       "      <td>177497.0000</td>\n",
       "      <td>1989741.0</td>\n",
       "    </tr>\n",
       "    <tr>\n",
       "      <th>2735</th>\n",
       "      <td>16506987.5</td>\n",
       "      <td>7.069930e+10</td>\n",
       "      <td>1.680213e+08</td>\n",
       "      <td>128514.95030</td>\n",
       "      <td>0.955263</td>\n",
       "      <td>0</td>\n",
       "      <td>1964.323077</td>\n",
       "      <td>17.375000</td>\n",
       "      <td>5.966241e+06</td>\n",
       "      <td>9.232330e+11</td>\n",
       "      <td>...</td>\n",
       "      <td>0.918844</td>\n",
       "      <td>31.434330</td>\n",
       "      <td>542909</td>\n",
       "      <td>255362</td>\n",
       "      <td>246685023</td>\n",
       "      <td>247068</td>\n",
       "      <td>172251</td>\n",
       "      <td>2.822187e+06</td>\n",
       "      <td>203972.3451</td>\n",
       "      <td>873611922.5</td>\n",
       "    </tr>\n",
       "  </tbody>\n",
       "</table>\n",
       "<p>5 rows × 22 columns</p>\n",
       "</div>"
      ],
      "text/plain": [
       "      btc_total_bitcoins  btc_market_cap  btc_trade_volume  btc_blocks_size  \\\n",
       "2690          16419900.0    4.068262e+10      1.037184e+08     122298.19290   \n",
       "2469          15999912.5    1.182314e+10      1.874184e+07      90883.41807   \n",
       "1414          12203800.0    9.115018e+09      1.490825e+07      13488.00000   \n",
       "934            9894050.0    1.109123e+08      3.107030e+05       2619.00000   \n",
       "2735          16506987.5    7.069930e+10      1.680213e+08     128514.95030   \n",
       "\n",
       "      btc_avg_block_size  btc_n_orphaned_blocks  btc_n_transactions_per_block  \\\n",
       "2690            0.956314                      0                   1736.103896   \n",
       "2469            0.923046                      1                   2052.957143   \n",
       "1414            0.102706                      0                    381.000000   \n",
       "934             0.101257                      0                    192.000000   \n",
       "2735            0.955263                      0                   1964.323077   \n",
       "\n",
       "      btc_median_confirmation_time  btc_hash_rate  btc_difficulty  \\\n",
       "2690                     11.883333   5.448314e+06    7.116970e+11   \n",
       "2469                     17.300000   1.961176e+06    2.818010e+11   \n",
       "1414                      6.466667   1.174080e+04    1.180923e+09   \n",
       "934                      13.400000   1.874906e+01    2.694048e+06   \n",
       "2735                     17.375000   5.966241e+06    9.232330e+11   \n",
       "\n",
       "                      ...                   btc_cost_per_transaction_percent  \\\n",
       "2690                  ...                                           0.752557   \n",
       "2469                  ...                                           0.705658   \n",
       "1414                  ...                                           6.623609   \n",
       "934                   ...                                           3.956688   \n",
       "2735                  ...                                           0.918844   \n",
       "\n",
       "      btc_cost_per_transaction  btc_n_unique_addresses  btc_n_transactions  \\\n",
       "2690                 21.149026                  533427              267360   \n",
       "2469                  4.744821                  490392              287414   \n",
       "1414                 90.202095                   83356               41476   \n",
       "934                   2.291331                   30088               34359   \n",
       "2735                 31.434330                  542909              255362   \n",
       "\n",
       "      btc_n_transactions_total  btc_n_transactions_excluding_popular  \\\n",
       "2690                 236165171                                259782   \n",
       "2469                 172676678                                282436   \n",
       "1414                  30246540                                 33625   \n",
       "934                    6895008                                 14589   \n",
       "2735                 246685023                                247068   \n",
       "\n",
       "      btc_n_transactions_excluding_chains_longer_than_100  btc_output_volume  \\\n",
       "2690                                             177910         3.475034e+06   \n",
       "2469                                             202961         1.566281e+06   \n",
       "1414                                              23125         5.250079e+05   \n",
       "934                                               13086         1.147049e+07   \n",
       "2735                                             172251         2.822187e+06   \n",
       "\n",
       "      btc_estimated_transaction_volume  btc_estimated_transaction_volume_usd  \n",
       "2690                       303255.8655                           751359279.5  \n",
       "2469                       261528.2988                           193256336.4  \n",
       "1414                        75623.0000                            56483139.0  \n",
       "934                        177497.0000                             1989741.0  \n",
       "2735                       203972.3451                           873611922.5  \n",
       "\n",
       "[5 rows x 22 columns]"
      ]
     },
     "execution_count": 13,
     "metadata": {},
     "output_type": "execute_result"
    }
   ],
   "source": [
    "std=preprocessing.StandardScaler().fit(X_train)\n",
    "X_train_std = pd.DataFrame(std.transform(X_train))\n",
    "X_validation_std = pd.DataFrame(std.transform(X_validation))\n",
    "#Y_train_std = std.transform(Y_train)\n",
    "#Y_validation_std = std.transform(Y_validation)\n",
    "X_train.head(5)"
   ]
  },
  {
   "cell_type": "code",
   "execution_count": 14,
   "metadata": {
    "scrolled": true
   },
   "outputs": [
    {
     "data": {
      "text/html": [
       "<div>\n",
       "<style>\n",
       "    .dataframe thead tr:only-child th {\n",
       "        text-align: right;\n",
       "    }\n",
       "\n",
       "    .dataframe thead th {\n",
       "        text-align: left;\n",
       "    }\n",
       "\n",
       "    .dataframe tbody tr th {\n",
       "        vertical-align: top;\n",
       "    }\n",
       "</style>\n",
       "<table border=\"1\" class=\"dataframe\">\n",
       "  <thead>\n",
       "    <tr style=\"text-align: right;\">\n",
       "      <th></th>\n",
       "      <th>0</th>\n",
       "      <th>1</th>\n",
       "      <th>2</th>\n",
       "      <th>3</th>\n",
       "      <th>4</th>\n",
       "      <th>5</th>\n",
       "      <th>6</th>\n",
       "      <th>7</th>\n",
       "      <th>8</th>\n",
       "      <th>9</th>\n",
       "      <th>...</th>\n",
       "      <th>12</th>\n",
       "      <th>13</th>\n",
       "      <th>14</th>\n",
       "      <th>15</th>\n",
       "      <th>16</th>\n",
       "      <th>17</th>\n",
       "      <th>18</th>\n",
       "      <th>19</th>\n",
       "      <th>20</th>\n",
       "      <th>21</th>\n",
       "    </tr>\n",
       "  </thead>\n",
       "  <tbody>\n",
       "    <tr>\n",
       "      <th>0</th>\n",
       "      <td>1.170042</td>\n",
       "      <td>0.695720</td>\n",
       "      <td>0.107336</td>\n",
       "      <td>1.997199</td>\n",
       "      <td>1.708156</td>\n",
       "      <td>-0.439062</td>\n",
       "      <td>1.539795</td>\n",
       "      <td>0.866060</td>\n",
       "      <td>1.412652</td>\n",
       "      <td>1.433480</td>\n",
       "      <td>...</td>\n",
       "      <td>-0.037964</td>\n",
       "      <td>0.303919</td>\n",
       "      <td>1.627870</td>\n",
       "      <td>1.596764</td>\n",
       "      <td>2.019629</td>\n",
       "      <td>1.597924</td>\n",
       "      <td>1.651977</td>\n",
       "      <td>0.771713</td>\n",
       "      <td>0.337571</td>\n",
       "      <td>0.966674</td>\n",
       "    </tr>\n",
       "    <tr>\n",
       "      <th>1</th>\n",
       "      <td>1.069852</td>\n",
       "      <td>-0.046163</td>\n",
       "      <td>-0.193951</td>\n",
       "      <td>1.275079</td>\n",
       "      <td>1.613877</td>\n",
       "      <td>0.701491</td>\n",
       "      <td>2.000389</td>\n",
       "      <td>1.948654</td>\n",
       "      <td>0.237062</td>\n",
       "      <td>0.303334</td>\n",
       "      <td>...</td>\n",
       "      <td>-0.037987</td>\n",
       "      <td>-0.483794</td>\n",
       "      <td>1.420888</td>\n",
       "      <td>1.790945</td>\n",
       "      <td>1.252892</td>\n",
       "      <td>1.817171</td>\n",
       "      <td>2.013099</td>\n",
       "      <td>-0.006995</td>\n",
       "      <td>0.190329</td>\n",
       "      <td>-0.014768</td>\n",
       "    </tr>\n",
       "    <tr>\n",
       "      <th>2</th>\n",
       "      <td>0.164272</td>\n",
       "      <td>-0.115779</td>\n",
       "      <td>-0.207543</td>\n",
       "      <td>-0.503984</td>\n",
       "      <td>-0.710867</td>\n",
       "      <td>-0.439062</td>\n",
       "      <td>-0.430056</td>\n",
       "      <td>-0.216535</td>\n",
       "      <td>-0.420134</td>\n",
       "      <td>-0.434382</td>\n",
       "      <td>...</td>\n",
       "      <td>-0.035072</td>\n",
       "      <td>3.619777</td>\n",
       "      <td>-0.536800</td>\n",
       "      <td>-0.590450</td>\n",
       "      <td>-0.467206</td>\n",
       "      <td>-0.590843</td>\n",
       "      <td>-0.579321</td>\n",
       "      <td>-0.431801</td>\n",
       "      <td>-0.465669</td>\n",
       "      <td>-0.255287</td>\n",
       "    </tr>\n",
       "    <tr>\n",
       "      <th>3</th>\n",
       "      <td>-0.386729</td>\n",
       "      <td>-0.347245</td>\n",
       "      <td>-0.259299</td>\n",
       "      <td>-0.753826</td>\n",
       "      <td>-0.714972</td>\n",
       "      <td>-0.439062</td>\n",
       "      <td>-0.704796</td>\n",
       "      <td>1.169186</td>\n",
       "      <td>-0.424086</td>\n",
       "      <td>-0.437480</td>\n",
       "      <td>...</td>\n",
       "      <td>-0.036386</td>\n",
       "      <td>-0.601608</td>\n",
       "      <td>-0.792999</td>\n",
       "      <td>-0.659364</td>\n",
       "      <td>-0.749217</td>\n",
       "      <td>-0.775075</td>\n",
       "      <td>-0.724038</td>\n",
       "      <td>4.033595</td>\n",
       "      <td>-0.106190</td>\n",
       "      <td>-0.351116</td>\n",
       "    </tr>\n",
       "    <tr>\n",
       "      <th>4</th>\n",
       "      <td>1.190817</td>\n",
       "      <td>1.467349</td>\n",
       "      <td>0.335324</td>\n",
       "      <td>2.140102</td>\n",
       "      <td>1.705176</td>\n",
       "      <td>-0.439062</td>\n",
       "      <td>1.871546</td>\n",
       "      <td>1.963643</td>\n",
       "      <td>1.587256</td>\n",
       "      <td>1.989583</td>\n",
       "      <td>...</td>\n",
       "      <td>-0.037882</td>\n",
       "      <td>0.797809</td>\n",
       "      <td>1.673475</td>\n",
       "      <td>1.480588</td>\n",
       "      <td>2.146675</td>\n",
       "      <td>1.474877</td>\n",
       "      <td>1.570400</td>\n",
       "      <td>0.505373</td>\n",
       "      <td>-0.012767</td>\n",
       "      <td>1.181659</td>\n",
       "    </tr>\n",
       "  </tbody>\n",
       "</table>\n",
       "<p>5 rows × 22 columns</p>\n",
       "</div>"
      ],
      "text/plain": [
       "         0         1         2         3         4         5         6   \\\n",
       "0  1.170042  0.695720  0.107336  1.997199  1.708156 -0.439062  1.539795   \n",
       "1  1.069852 -0.046163 -0.193951  1.275079  1.613877  0.701491  2.000389   \n",
       "2  0.164272 -0.115779 -0.207543 -0.503984 -0.710867 -0.439062 -0.430056   \n",
       "3 -0.386729 -0.347245 -0.259299 -0.753826 -0.714972 -0.439062 -0.704796   \n",
       "4  1.190817  1.467349  0.335324  2.140102  1.705176 -0.439062  1.871546   \n",
       "\n",
       "         7         8         9     ...           12        13        14  \\\n",
       "0  0.866060  1.412652  1.433480    ...    -0.037964  0.303919  1.627870   \n",
       "1  1.948654  0.237062  0.303334    ...    -0.037987 -0.483794  1.420888   \n",
       "2 -0.216535 -0.420134 -0.434382    ...    -0.035072  3.619777 -0.536800   \n",
       "3  1.169186 -0.424086 -0.437480    ...    -0.036386 -0.601608 -0.792999   \n",
       "4  1.963643  1.587256  1.989583    ...    -0.037882  0.797809  1.673475   \n",
       "\n",
       "         15        16        17        18        19        20        21  \n",
       "0  1.596764  2.019629  1.597924  1.651977  0.771713  0.337571  0.966674  \n",
       "1  1.790945  1.252892  1.817171  2.013099 -0.006995  0.190329 -0.014768  \n",
       "2 -0.590450 -0.467206 -0.590843 -0.579321 -0.431801 -0.465669 -0.255287  \n",
       "3 -0.659364 -0.749217 -0.775075 -0.724038  4.033595 -0.106190 -0.351116  \n",
       "4  1.480588  2.146675  1.474877  1.570400  0.505373 -0.012767  1.181659  \n",
       "\n",
       "[5 rows x 22 columns]"
      ]
     },
     "execution_count": 14,
     "metadata": {},
     "output_type": "execute_result"
    }
   ],
   "source": [
    "X_train_std.head(5)"
   ]
  },
  {
   "cell_type": "code",
   "execution_count": 15,
   "metadata": {},
   "outputs": [
    {
     "data": {
      "text/plain": [
       "PCA(copy=True, iterated_power='auto', n_components=22, random_state=None,\n",
       "  svd_solver='auto', tol=0.0, whiten=False)"
      ]
     },
     "execution_count": 15,
     "metadata": {},
     "output_type": "execute_result"
    }
   ],
   "source": [
    "from sklearn.decomposition import PCA\n",
    "pca = PCA(n_components=22)\n",
    "pca.fit(X_train_std)"
   ]
  },
  {
   "cell_type": "code",
   "execution_count": 16,
   "metadata": {
    "collapsed": true
   },
   "outputs": [],
   "source": [
    "np.set_printoptions(suppress=True)\n",
    "cum = np.cumsum(np.round(pca.explained_variance_ratio_,decimals=4)*100)\n",
    "#np.round(pca.explained_variance_ratio_,decimals=4)*100"
   ]
  },
  {
   "cell_type": "code",
   "execution_count": 17,
   "metadata": {},
   "outputs": [
    {
     "data": {
      "image/png": "[encoded data removed]",
      "text/plain": [
       "<matplotlib.figure.Figure at 0x258197154e0>"
      ]
     },
     "metadata": {},
     "output_type": "display_data"
    }
   ],
   "source": [
    "plt.plot(cum)\n",
    "plt.xticks(np.arange(0, 25, 2))\n",
    "plt.show()"
   ]
  },
  {
   "cell_type": "markdown",
   "metadata": {},
   "source": [
    "#### Looking at above plot we can take 12 variables"
   ]
  },
  {
   "cell_type": "code",
   "execution_count": 18,
   "metadata": {
    "collapsed": true
   },
   "outputs": [],
   "source": [
    "pca = PCA(n_components=12)\n",
    "trans = pca.fit(X_train_std)\n",
    "X_train_trans = trans.transform(X_train_std)\n",
    "X_validation_trans = trans.transform(X_validation_std)"
   ]
  },
  {
   "cell_type": "markdown",
   "metadata": {},
   "source": [
    "## Using liner regression\n",
    "- We see a model fit of close ~ 99%\n",
    "- Cross validation is a better approximation for model accuracy"
   ]
  },
  {
   "cell_type": "code",
   "execution_count": 74,
   "metadata": {},
   "outputs": [
    {
     "name": "stdout",
     "output_type": "stream",
     "text": [
      "0.993119790048\n",
      "[ 0.98893627  0.99212709  0.98880564  0.99488927  0.99201199  0.99371556\n",
      "  0.99558789  0.99424834  0.9883993   0.99450529]\n",
      "0.992322664535\n",
      "0.992931483298\n"
     ]
    }
   ],
   "source": [
    "store_accuracy=[]\n",
    "regr = sklearn.linear_model.LinearRegression()\n",
    "regr.fit(X_train_trans,Y_train)\n",
    "print(regr.score(X_train_trans,Y_train))\n",
    "#using ccross validation for accessing model accuracy\n",
    "scores = cross_val_score(regr, X_train_trans, Y_train, cv=10 , scoring='r2')\n",
    "print(scores)\n",
    "print(scores.mean())\n",
    "print(regr.score(X_validation_trans,Y_validation))\n"
   ]
  },
  {
   "cell_type": "markdown",
   "metadata": {},
   "source": [
    "#### Using Kfold for validation"
   ]
  },
  {
   "cell_type": "code",
   "execution_count": 76,
   "metadata": {},
   "outputs": [
    {
     "name": "stdout",
     "output_type": "stream",
     "text": [
      "[ 0.98893627  0.99212709  0.98880564  0.99488927  0.99201199  0.99371556\n",
      "  0.99558789  0.99424834  0.9883993   0.99450529]\n",
      "0.992322664535\n"
     ]
    }
   ],
   "source": [
    "scores = cross_val_score(regr, X_train_trans, Y_train,cv=10)\n",
    "print (scores)\n",
    "print(scores.mean())\n",
    "store_accuracy.append(['Liner regression',scores.mean()])"
   ]
  },
  {
   "cell_type": "markdown",
   "metadata": {},
   "source": [
    "#### Predicting bitcoin prices for trainning set\n",
    "Visualizing the predicted and the actual values from linerar regression"
   ]
  },
  {
   "cell_type": "code",
   "execution_count": 79,
   "metadata": {
    "scrolled": true
   },
   "outputs": [
    {
     "data": {
      "image/png": "[encoded data removed]",
      "text/plain": [
       "<matplotlib.figure.Figure at 0x2581caa5e48>"
      ]
     },
     "metadata": {},
     "output_type": "display_data"
    },
    {
     "name": "stdout",
     "output_type": "stream",
     "text": [
      "79.8023392467\n",
      "36444.0545395\n",
      "190.903259636\n"
     ]
    }
   ],
   "source": [
    "Y_pred = pd.DataFrame(regr.predict(X_validation_trans))\n",
    "plt.scatter(Y_pred,Y_validation)\n",
    "plt.xlabel('Predicted Values')\n",
    "plt.ylabel(\"Actual Values\")\n",
    "plt.show()\n",
    "print(metrics.mean_absolute_error(Y_validation, Y_pred))\n",
    "print(metrics.mean_squared_error(Y_validation, Y_pred))\n",
    "print(np.sqrt(metrics.mean_squared_error(Y_validation, Y_pred)))"
   ]
  },
  {
   "cell_type": "markdown",
   "metadata": {},
   "source": [
    "# Using KNN for model fit \n",
    "Using gridSearch to optimize model selection"
   ]
  },
  {
   "cell_type": "code",
   "execution_count": 26,
   "metadata": {},
   "outputs": [
    {
     "name": "stdout",
     "output_type": "stream",
     "text": [
      "[1, 2, 3, 4, 5, 6, 7, 8, 9, 10, 11, 12, 13, 14, 15, 16, 17, 18, 19]\n"
     ]
    }
   ],
   "source": [
    "# define the parameter values that should be searched\n",
    "# for python 2, k_range = range(1, 31)\n",
    "k_range = list(range(1, 20))\n",
    "print(k_range)"
   ]
  },
  {
   "cell_type": "code",
   "execution_count": 27,
   "metadata": {},
   "outputs": [
    {
     "name": "stdout",
     "output_type": "stream",
     "text": [
      "{'n_neighbors': [1, 2, 3, 4, 5, 6, 7, 8, 9, 10, 11, 12, 13, 14, 15, 16, 17, 18, 19]}\n"
     ]
    }
   ],
   "source": [
    "# create a parameter grid: map the parameter names to the values that should be searched\n",
    "# simply a python dictionary\n",
    "# key: parameter name\n",
    "# value: list of values that should be searched for that parameter\n",
    "# single key-value pair for param_grid\n",
    "param_grid = dict(n_neighbors=k_range)\n",
    "print(param_grid)"
   ]
  },
  {
   "cell_type": "markdown",
   "metadata": {},
   "source": [
    "- Grid object is ready to do 10-fold cross validation on a KNN model using classification accuracy as the evaluation metric\n",
    "    - In addition, there is a parameter grid to repeat the 10-fold cross validation process 30 times\n",
    "    - Each time, the n_neighbors parameter should be given a different value from the list\n",
    "    - We can't give GridSearchCV just a list\n",
    "- We've to specify n_neighbors should take on 1 through 19\n",
    "- Best result is for n_neighbours = 1\n",
    "- Accuracy decreases steeply for K = 8, so we are going to use K = 7 for this model"
   ]
  },
  {
   "cell_type": "code",
   "execution_count": 28,
   "metadata": {},
   "outputs": [
    {
     "data": {
      "text/plain": [
       "GridSearchCV(cv=10, error_score='raise',\n",
       "       estimator=KNeighborsRegressor(algorithm='auto', leaf_size=30, metric='minkowski',\n",
       "          metric_params=None, n_jobs=1, n_neighbors=5, p=2,\n",
       "          weights='uniform'),\n",
       "       fit_params={}, iid=True, n_jobs=1,\n",
       "       param_grid={'n_neighbors': [1, 2, 3, 4, 5, 6, 7, 8, 9, 10, 11, 12, 13, 14, 15, 16, 17, 18, 19]},\n",
       "       pre_dispatch='2*n_jobs', refit=True, scoring='r2', verbose=0)"
      ]
     },
     "execution_count": 28,
     "metadata": {},
     "output_type": "execute_result"
    }
   ],
   "source": [
    "# instantiate the grid\n",
    "knn = KNeighborsRegressor()\n",
    "grid = GridSearchCV(knn, param_grid, cv=10, scoring='r2')\n",
    "# fit the grid with data\n",
    "grid.fit(X_train_trans, Y_train)"
   ]
  },
  {
   "cell_type": "code",
   "execution_count": 29,
   "metadata": {},
   "outputs": [
    {
     "data": {
      "text/plain": [
       "[mean: 0.99042, std: 0.00664, params: {'n_neighbors': 1},\n",
       " mean: 0.99069, std: 0.00459, params: {'n_neighbors': 2},\n",
       " mean: 0.99042, std: 0.00514, params: {'n_neighbors': 3},\n",
       " mean: 0.99028, std: 0.00640, params: {'n_neighbors': 4},\n",
       " mean: 0.99041, std: 0.00635, params: {'n_neighbors': 5},\n",
       " mean: 0.99069, std: 0.00630, params: {'n_neighbors': 6},\n",
       " mean: 0.99031, std: 0.00673, params: {'n_neighbors': 7},\n",
       " mean: 0.98936, std: 0.00741, params: {'n_neighbors': 8},\n",
       " mean: 0.98875, std: 0.00814, params: {'n_neighbors': 9},\n",
       " mean: 0.98782, std: 0.00875, params: {'n_neighbors': 10},\n",
       " mean: 0.98798, std: 0.00841, params: {'n_neighbors': 11},\n",
       " mean: 0.98771, std: 0.00861, params: {'n_neighbors': 12},\n",
       " mean: 0.98758, std: 0.00908, params: {'n_neighbors': 13},\n",
       " mean: 0.98701, std: 0.00955, params: {'n_neighbors': 14},\n",
       " mean: 0.98629, std: 0.00956, params: {'n_neighbors': 15},\n",
       " mean: 0.98587, std: 0.00967, params: {'n_neighbors': 16},\n",
       " mean: 0.98582, std: 0.00941, params: {'n_neighbors': 17},\n",
       " mean: 0.98602, std: 0.00880, params: {'n_neighbors': 18},\n",
       " mean: 0.98581, std: 0.00871, params: {'n_neighbors': 19}]"
      ]
     },
     "execution_count": 29,
     "metadata": {},
     "output_type": "execute_result"
    }
   ],
   "source": [
    "# displaying the complete results\n",
    "grid.grid_scores_"
   ]
  },
  {
   "cell_type": "code",
   "execution_count": 30,
   "metadata": {},
   "outputs": [
    {
     "name": "stdout",
     "output_type": "stream",
     "text": [
      "[0.9904232140723225, 0.9906933403586782, 0.9904227791916782, 0.9902846832022396, 0.9904091122358364, 0.9906866325163025, 0.9903078435472702, 0.9893594957122472, 0.9887526525063549, 0.9878211603671088, 0.9879807500308188, 0.9877076523735825, 0.9875770551600486, 0.9870054140385993, 0.986290772606844, 0.9858737018131358, 0.9858202353329413, 0.9860219249950116, 0.9858051168285511]\n"
     ]
    }
   ],
   "source": [
    "# create a list of the mean scores only\n",
    "# list comprehension to loop through grid.grid_scores\n",
    "grid_mean_scores = [result.mean_validation_score for result in grid.grid_scores_]\n",
    "print(grid_mean_scores)"
   ]
  },
  {
   "cell_type": "code",
   "execution_count": 31,
   "metadata": {},
   "outputs": [
    {
     "data": {
      "image/png": "[encoded data removed]",
      "text/plain": [
       "<matplotlib.figure.Figure at 0x2581a83f5c0>"
      ]
     },
     "metadata": {},
     "output_type": "display_data"
    }
   ],
   "source": [
    "# plot the results\n",
    "# this is identical to the one we generated above\n",
    "plt.plot(k_range, grid_mean_scores)\n",
    "\n",
    "plt.xlabel('Value of K for KNN')\n",
    "plt.ylabel('Cross-Validated Accuracy')\n",
    "plt.xticks(np.arange(0, 20, 1))\n",
    "plt.show()"
   ]
  },
  {
   "cell_type": "code",
   "execution_count": 32,
   "metadata": {},
   "outputs": [
    {
     "name": "stdout",
     "output_type": "stream",
     "text": [
      "Parameters\n",
      "{'n_neighbors': 7}\n",
      "\n",
      "CV Validation Score\n",
      "[ 0.992451    0.99702387  0.99357407  0.99251017  0.99090311  0.98084567\n",
      "  0.99055744  0.9960248   0.9745831   0.99453462]\n",
      "\n",
      "Mean Validation Score\n",
      "0.9903078435472702\n"
     ]
    }
   ],
   "source": [
    "# examine k =7 tuple\n",
    "# we will slice the list and select its elements using dot notation and []\n",
    "\n",
    "\n",
    "print('Parameters')\n",
    "print(grid.grid_scores_[6].parameters)\n",
    "\n",
    "# Array of 10 accuracy scores during 10-fold cv using the parameters\n",
    "print('')\n",
    "print('CV Validation Score')\n",
    "print(grid.grid_scores_[6].cv_validation_scores)\n",
    "\n",
    "# Mean of the 10 scores\n",
    "print('')\n",
    "print('Mean Validation Score')\n",
    "print(grid.grid_scores_[6].mean_validation_score)"
   ]
  },
  {
   "cell_type": "markdown",
   "metadata": {},
   "source": [
    "#### Trainning data with k =7"
   ]
  },
  {
   "cell_type": "code",
   "execution_count": 33,
   "metadata": {},
   "outputs": [
    {
     "name": "stdout",
     "output_type": "stream",
     "text": [
      "0.993562843057\n",
      "0.98845165937\n"
     ]
    }
   ],
   "source": [
    "knn = KNeighborsRegressor(n_neighbors=7)\n",
    "knn.fit(X_train_trans,Y_train)\n",
    "print(knn.score(X_train_trans,Y_train))\n",
    "print(knn.score(X_validation_trans,Y_validation))\n",
    "store_accuracy.append(['KNN',knn.score(X_validation_trans,Y_validation)])"
   ]
  },
  {
   "cell_type": "code",
   "execution_count": 80,
   "metadata": {},
   "outputs": [
    {
     "data": {
      "image/png": "[encoded data removed]",
      "text/plain": [
       "<matplotlib.figure.Figure at 0x2581ca7f0b8>"
      ]
     },
     "metadata": {},
     "output_type": "display_data"
    },
    {
     "name": "stdout",
     "output_type": "stream",
     "text": [
      "61.3442973899\n",
      "59541.2550509\n",
      "244.010768309\n"
     ]
    }
   ],
   "source": [
    "knn_pred = pd.DataFrame(knn.predict(X_validation_trans))\n",
    "plt.scatter(knn_pred,Y_validation)\n",
    "plt.xlabel('Predicted Values')\n",
    "plt.ylabel(\"Actual Values\")\n",
    "plt.show()\n",
    "print(metrics.mean_absolute_error(Y_validation, knn_pred))\n",
    "print(metrics.mean_squared_error(Y_validation, knn_pred))\n",
    "print(np.sqrt(metrics.mean_squared_error(Y_validation, knn_pred)))"
   ]
  },
  {
   "cell_type": "markdown",
   "metadata": {},
   "source": [
    "# Fitting model data using Ridge regression\n",
    "- Since ridge regression penalizes coefficient, we need to scale all the feature to a comparable scale\n",
    "- Using MinMax from sklearn to normalize the features"
   ]
  },
  {
   "cell_type": "code",
   "execution_count": 34,
   "metadata": {
    "collapsed": true
   },
   "outputs": [],
   "source": [
    "scaler = MinMaxScaler()\n",
    "X_train_scaled = scaler.fit_transform(X_train_trans)\n",
    "X_validation_scaled = scaler.transform(X_validation_trans)"
   ]
  },
  {
   "cell_type": "code",
   "execution_count": 35,
   "metadata": {},
   "outputs": [
    {
     "name": "stdout",
     "output_type": "stream",
     "text": [
      "[0.0, 0.10000000000000001, 0.20000000000000001, 0.30000000000000004, 0.40000000000000002, 0.5, 0.60000000000000009, 0.70000000000000007, 0.80000000000000004, 0.90000000000000002]\n"
     ]
    }
   ],
   "source": [
    "#Using grid search to find optimal parameters\n",
    "# define the parameter values that should be searched\n",
    "RrParam = list(np.arange(0, 1, 0.1))\n",
    "print(RrParam)"
   ]
  },
  {
   "cell_type": "code",
   "execution_count": 36,
   "metadata": {},
   "outputs": [
    {
     "name": "stdout",
     "output_type": "stream",
     "text": [
      "{'alpha': [0.0, 0.10000000000000001, 0.20000000000000001, 0.30000000000000004, 0.40000000000000002, 0.5, 0.60000000000000009, 0.70000000000000007, 0.80000000000000004, 0.90000000000000002]}\n"
     ]
    }
   ],
   "source": [
    "# create a parameter grid: map the parameter names to the values that should be searched\n",
    "# simply a python dictionary\n",
    "# key: parameter name\n",
    "# value: list of values that should be searched for that parameter\n",
    "# single key-value pair for param_grid\n",
    "param_grid = dict(alpha=RrParam)\n",
    "print(param_grid)"
   ]
  },
  {
   "cell_type": "code",
   "execution_count": 37,
   "metadata": {},
   "outputs": [
    {
     "data": {
      "text/plain": [
       "GridSearchCV(cv=10, error_score='raise',\n",
       "       estimator=Ridge(alpha=1.0, copy_X=True, fit_intercept=True, max_iter=None,\n",
       "   normalize=False, random_state=None, solver='auto', tol=0.001),\n",
       "       fit_params={}, iid=True, n_jobs=1,\n",
       "       param_grid={'alpha': [0.0, 0.10000000000000001, 0.20000000000000001, 0.30000000000000004, 0.40000000000000002, 0.5, 0.60000000000000009, 0.70000000000000007, 0.80000000000000004, 0.90000000000000002]},\n",
       "       pre_dispatch='2*n_jobs', refit=True, scoring='r2', verbose=0)"
      ]
     },
     "execution_count": 37,
     "metadata": {},
     "output_type": "execute_result"
    }
   ],
   "source": [
    "RR = Ridge()\n",
    "grid = GridSearchCV(RR, param_grid, cv=10, scoring='r2')\n",
    "# fit the grid with data\n",
    "grid.fit(X_train_scaled, Y_train)"
   ]
  },
  {
   "cell_type": "code",
   "execution_count": 38,
   "metadata": {},
   "outputs": [
    {
     "name": "stdout",
     "output_type": "stream",
     "text": [
      "[0.992320436222007, 0.9922408531496111, 0.9920730812336194, 0.9918343311277337, 0.9915377912459596, 0.9911934196678807, 0.9908087829057656, 0.990389688618462, 0.989940643516133, 0.9894651839624585]\n"
     ]
    },
    {
     "data": {
      "image/png": "[encoded data removed]",
      "text/plain": [
       "<matplotlib.figure.Figure at 0x2581a8299e8>"
      ]
     },
     "metadata": {},
     "output_type": "display_data"
    }
   ],
   "source": [
    "# create a list of the mean scores only\n",
    "# list comprehension to loop through grid.grid_scores\n",
    "grid_mean_scores = [result.mean_validation_score for result in grid.grid_scores_]\n",
    "print(grid_mean_scores)\n",
    "plt.plot(RrParam,grid_mean_scores)\n",
    "plt.xlabel(\"alpha\")\n",
    "plt.ylabel(\"Model Fit\")\n",
    "plt.xticks(np.arange(0,1,0.1))\n",
    "plt.show()"
   ]
  },
  {
   "cell_type": "code",
   "execution_count": 39,
   "metadata": {},
   "outputs": [
    {
     "name": "stdout",
     "output_type": "stream",
     "text": [
      "Ridge(alpha=0.0, copy_X=True, fit_intercept=True, max_iter=None,\n",
      "   normalize=False, random_state=None, solver='auto', tol=0.001)\n",
      "Parameters\n",
      "{'alpha': 0.0}\n",
      "\n",
      "CV Validation Score\n",
      "[ 0.98893627  0.99212709  0.98880564  0.99488927  0.99201199  0.99371556\n",
      "  0.99558789  0.99424834  0.9883993   0.99450529]\n",
      "\n",
      "Mean Validation Score\n",
      "0.992320436222007\n"
     ]
    }
   ],
   "source": [
    "## Checking for best score\n",
    "print(grid.best_estimator_)\n",
    "\n",
    "# examine alpha =1 tuple\n",
    "# we will slice the list and select its elements using dot notation and []\n",
    "\n",
    "\n",
    "print('Parameters')\n",
    "print(grid.grid_scores_[0].parameters)\n",
    "\n",
    "# Array of 10 accuracy scores during 10-fold cv using the parameters\n",
    "print('')\n",
    "print('CV Validation Score')\n",
    "print(grid.grid_scores_[0].cv_validation_scores)\n",
    "\n",
    "# Mean of the 10 scores\n",
    "print('')\n",
    "print('Mean Validation Score')\n",
    "print(grid.grid_scores_[0].mean_validation_score)"
   ]
  },
  {
   "cell_type": "code",
   "execution_count": 89,
   "metadata": {},
   "outputs": [
    {
     "name": "stdout",
     "output_type": "stream",
     "text": [
      "0.990527870909\n",
      "0.990708325449\n"
     ]
    }
   ],
   "source": [
    "# Trainning model with alpha = 0\n",
    "RR = Ridge(alpha=1)\n",
    "RR.fit(X_train_scaled,Y_train)\n",
    "print(RR.score(X_train_scaled,Y_train))\n",
    "print(RR.score(X_validation_scaled,Y_validation))\n",
    "store_accuracy.append(['Ridge',RR.score(X_validation_scaled,Y_validation)])"
   ]
  },
  {
   "cell_type": "code",
   "execution_count": 130,
   "metadata": {},
   "outputs": [
    {
     "data": {
      "image/png": "[encoded data removed]",
      "text/plain": [
       "<matplotlib.figure.Figure at 0x258198e5da0>"
      ]
     },
     "metadata": {},
     "output_type": "display_data"
    }
   ],
   "source": [
    "#plotting regression output\n",
    "plt.plot(RR.coef_.ravel())\n",
    "plt.xlabel(\"PCA Components\")\n",
    "plt.ylabel(\"Co-efficient\")\n",
    "plt.show()"
   ]
  },
  {
   "cell_type": "code",
   "execution_count": 82,
   "metadata": {},
   "outputs": [
    {
     "data": {
      "image/png": "[encoded data removed]",
      "text/plain": [
       "<matplotlib.figure.Figure at 0x2581cab8278>"
      ]
     },
     "metadata": {},
     "output_type": "display_data"
    },
    {
     "name": "stdout",
     "output_type": "stream",
     "text": [
      "89.2288490427\n",
      "47906.273465\n",
      "218.87501791\n"
     ]
    }
   ],
   "source": [
    "RR_pred = pd.DataFrame(RR.predict(X_validation_scaled))\n",
    "plt.scatter(RR_pred,Y_validation)\n",
    "plt.xlabel('Predicted Values')\n",
    "plt.ylabel(\"Actual Values\")\n",
    "plt.show()\n",
    "print(metrics.mean_absolute_error(Y_validation, RR_pred))\n",
    "print(metrics.mean_squared_error(Y_validation, RR_pred))\n",
    "print(np.sqrt(metrics.mean_squared_error(Y_validation, RR_pred)))"
   ]
  },
  {
   "cell_type": "markdown",
   "metadata": {},
   "source": [
    "# Fitting data using lasso regression\n",
    "- Using GridSearch to iterate and find optimal values of alpha\n",
    "- Just like the ridge regression, we need to scale the variables here as well"
   ]
  },
  {
   "cell_type": "code",
   "execution_count": 41,
   "metadata": {},
   "outputs": [
    {
     "name": "stdout",
     "output_type": "stream",
     "text": [
      "[ 0.   0.1  0.2  0.3  0.4  0.5  0.6  0.7  0.8  0.9]\n",
      "{'alpha': array([ 0. ,  0.1,  0.2,  0.3,  0.4,  0.5,  0.6,  0.7,  0.8,  0.9])}\n"
     ]
    }
   ],
   "source": [
    "#initialing parameters for Lasso regression\n",
    "LR_range = np.arange(0,1,0.1)\n",
    "print(LR_range)\n",
    "LR_param = dict(alpha = LR_range)\n",
    "print(LR_param)"
   ]
  },
  {
   "cell_type": "code",
   "execution_count": 42,
   "metadata": {},
   "outputs": [
    {
     "name": "stderr",
     "output_type": "stream",
     "text": [
      "C:\\Users\\Airflowjhonson\\AppData\\Local\\conda\\conda\\envs\\6341\\lib\\site-packages\\sklearn\\cross_validation.py:1675: UserWarning: With alpha=0, this algorithm does not converge well. You are advised to use the LinearRegression estimator\n",
      "  estimator.fit(X_train, y_train, **fit_params)\n",
      "C:\\Users\\Airflowjhonson\\AppData\\Local\\conda\\conda\\envs\\6341\\lib\\site-packages\\sklearn\\linear_model\\coordinate_descent.py:477: UserWarning: Coordinate descent with no regularization may lead to unexpected results and is discouraged.\n",
      "  positive)\n",
      "C:\\Users\\Airflowjhonson\\AppData\\Local\\conda\\conda\\envs\\6341\\lib\\site-packages\\sklearn\\linear_model\\coordinate_descent.py:491: ConvergenceWarning: Objective did not converge. You might want to increase the number of iterations. Fitting data with very small alpha may cause precision problems.\n",
      "  ConvergenceWarning)\n",
      "C:\\Users\\Airflowjhonson\\AppData\\Local\\conda\\conda\\envs\\6341\\lib\\site-packages\\sklearn\\cross_validation.py:1675: UserWarning: With alpha=0, this algorithm does not converge well. You are advised to use the LinearRegression estimator\n",
      "  estimator.fit(X_train, y_train, **fit_params)\n",
      "C:\\Users\\Airflowjhonson\\AppData\\Local\\conda\\conda\\envs\\6341\\lib\\site-packages\\sklearn\\linear_model\\coordinate_descent.py:477: UserWarning: Coordinate descent with no regularization may lead to unexpected results and is discouraged.\n",
      "  positive)\n",
      "C:\\Users\\Airflowjhonson\\AppData\\Local\\conda\\conda\\envs\\6341\\lib\\site-packages\\sklearn\\linear_model\\coordinate_descent.py:491: ConvergenceWarning: Objective did not converge. You might want to increase the number of iterations. Fitting data with very small alpha may cause precision problems.\n",
      "  ConvergenceWarning)\n",
      "C:\\Users\\Airflowjhonson\\AppData\\Local\\conda\\conda\\envs\\6341\\lib\\site-packages\\sklearn\\cross_validation.py:1675: UserWarning: With alpha=0, this algorithm does not converge well. You are advised to use the LinearRegression estimator\n",
      "  estimator.fit(X_train, y_train, **fit_params)\n",
      "C:\\Users\\Airflowjhonson\\AppData\\Local\\conda\\conda\\envs\\6341\\lib\\site-packages\\sklearn\\linear_model\\coordinate_descent.py:477: UserWarning: Coordinate descent with no regularization may lead to unexpected results and is discouraged.\n",
      "  positive)\n",
      "C:\\Users\\Airflowjhonson\\AppData\\Local\\conda\\conda\\envs\\6341\\lib\\site-packages\\sklearn\\linear_model\\coordinate_descent.py:491: ConvergenceWarning: Objective did not converge. You might want to increase the number of iterations. Fitting data with very small alpha may cause precision problems.\n",
      "  ConvergenceWarning)\n",
      "C:\\Users\\Airflowjhonson\\AppData\\Local\\conda\\conda\\envs\\6341\\lib\\site-packages\\sklearn\\cross_validation.py:1675: UserWarning: With alpha=0, this algorithm does not converge well. You are advised to use the LinearRegression estimator\n",
      "  estimator.fit(X_train, y_train, **fit_params)\n",
      "C:\\Users\\Airflowjhonson\\AppData\\Local\\conda\\conda\\envs\\6341\\lib\\site-packages\\sklearn\\linear_model\\coordinate_descent.py:477: UserWarning: Coordinate descent with no regularization may lead to unexpected results and is discouraged.\n",
      "  positive)\n",
      "C:\\Users\\Airflowjhonson\\AppData\\Local\\conda\\conda\\envs\\6341\\lib\\site-packages\\sklearn\\linear_model\\coordinate_descent.py:491: ConvergenceWarning: Objective did not converge. You might want to increase the number of iterations. Fitting data with very small alpha may cause precision problems.\n",
      "  ConvergenceWarning)\n",
      "C:\\Users\\Airflowjhonson\\AppData\\Local\\conda\\conda\\envs\\6341\\lib\\site-packages\\sklearn\\cross_validation.py:1675: UserWarning: With alpha=0, this algorithm does not converge well. You are advised to use the LinearRegression estimator\n",
      "  estimator.fit(X_train, y_train, **fit_params)\n",
      "C:\\Users\\Airflowjhonson\\AppData\\Local\\conda\\conda\\envs\\6341\\lib\\site-packages\\sklearn\\linear_model\\coordinate_descent.py:477: UserWarning: Coordinate descent with no regularization may lead to unexpected results and is discouraged.\n",
      "  positive)\n",
      "C:\\Users\\Airflowjhonson\\AppData\\Local\\conda\\conda\\envs\\6341\\lib\\site-packages\\sklearn\\linear_model\\coordinate_descent.py:491: ConvergenceWarning: Objective did not converge. You might want to increase the number of iterations. Fitting data with very small alpha may cause precision problems.\n",
      "  ConvergenceWarning)\n",
      "C:\\Users\\Airflowjhonson\\AppData\\Local\\conda\\conda\\envs\\6341\\lib\\site-packages\\sklearn\\cross_validation.py:1675: UserWarning: With alpha=0, this algorithm does not converge well. You are advised to use the LinearRegression estimator\n",
      "  estimator.fit(X_train, y_train, **fit_params)\n",
      "C:\\Users\\Airflowjhonson\\AppData\\Local\\conda\\conda\\envs\\6341\\lib\\site-packages\\sklearn\\linear_model\\coordinate_descent.py:477: UserWarning: Coordinate descent with no regularization may lead to unexpected results and is discouraged.\n",
      "  positive)\n",
      "C:\\Users\\Airflowjhonson\\AppData\\Local\\conda\\conda\\envs\\6341\\lib\\site-packages\\sklearn\\linear_model\\coordinate_descent.py:491: ConvergenceWarning: Objective did not converge. You might want to increase the number of iterations. Fitting data with very small alpha may cause precision problems.\n",
      "  ConvergenceWarning)\n",
      "C:\\Users\\Airflowjhonson\\AppData\\Local\\conda\\conda\\envs\\6341\\lib\\site-packages\\sklearn\\cross_validation.py:1675: UserWarning: With alpha=0, this algorithm does not converge well. You are advised to use the LinearRegression estimator\n",
      "  estimator.fit(X_train, y_train, **fit_params)\n",
      "C:\\Users\\Airflowjhonson\\AppData\\Local\\conda\\conda\\envs\\6341\\lib\\site-packages\\sklearn\\linear_model\\coordinate_descent.py:477: UserWarning: Coordinate descent with no regularization may lead to unexpected results and is discouraged.\n",
      "  positive)\n",
      "C:\\Users\\Airflowjhonson\\AppData\\Local\\conda\\conda\\envs\\6341\\lib\\site-packages\\sklearn\\linear_model\\coordinate_descent.py:491: ConvergenceWarning: Objective did not converge. You might want to increase the number of iterations. Fitting data with very small alpha may cause precision problems.\n",
      "  ConvergenceWarning)\n",
      "C:\\Users\\Airflowjhonson\\AppData\\Local\\conda\\conda\\envs\\6341\\lib\\site-packages\\sklearn\\cross_validation.py:1675: UserWarning: With alpha=0, this algorithm does not converge well. You are advised to use the LinearRegression estimator\n",
      "  estimator.fit(X_train, y_train, **fit_params)\n",
      "C:\\Users\\Airflowjhonson\\AppData\\Local\\conda\\conda\\envs\\6341\\lib\\site-packages\\sklearn\\linear_model\\coordinate_descent.py:477: UserWarning: Coordinate descent with no regularization may lead to unexpected results and is discouraged.\n",
      "  positive)\n",
      "C:\\Users\\Airflowjhonson\\AppData\\Local\\conda\\conda\\envs\\6341\\lib\\site-packages\\sklearn\\linear_model\\coordinate_descent.py:491: ConvergenceWarning: Objective did not converge. You might want to increase the number of iterations. Fitting data with very small alpha may cause precision problems.\n",
      "  ConvergenceWarning)\n",
      "C:\\Users\\Airflowjhonson\\AppData\\Local\\conda\\conda\\envs\\6341\\lib\\site-packages\\sklearn\\cross_validation.py:1675: UserWarning: With alpha=0, this algorithm does not converge well. You are advised to use the LinearRegression estimator\n",
      "  estimator.fit(X_train, y_train, **fit_params)\n",
      "C:\\Users\\Airflowjhonson\\AppData\\Local\\conda\\conda\\envs\\6341\\lib\\site-packages\\sklearn\\linear_model\\coordinate_descent.py:477: UserWarning: Coordinate descent with no regularization may lead to unexpected results and is discouraged.\n",
      "  positive)\n",
      "C:\\Users\\Airflowjhonson\\AppData\\Local\\conda\\conda\\envs\\6341\\lib\\site-packages\\sklearn\\linear_model\\coordinate_descent.py:491: ConvergenceWarning: Objective did not converge. You might want to increase the number of iterations. Fitting data with very small alpha may cause precision problems.\n",
      "  ConvergenceWarning)\n",
      "C:\\Users\\Airflowjhonson\\AppData\\Local\\conda\\conda\\envs\\6341\\lib\\site-packages\\sklearn\\cross_validation.py:1675: UserWarning: With alpha=0, this algorithm does not converge well. You are advised to use the LinearRegression estimator\n",
      "  estimator.fit(X_train, y_train, **fit_params)\n",
      "C:\\Users\\Airflowjhonson\\AppData\\Local\\conda\\conda\\envs\\6341\\lib\\site-packages\\sklearn\\linear_model\\coordinate_descent.py:477: UserWarning: Coordinate descent with no regularization may lead to unexpected results and is discouraged.\n",
      "  positive)\n",
      "C:\\Users\\Airflowjhonson\\AppData\\Local\\conda\\conda\\envs\\6341\\lib\\site-packages\\sklearn\\linear_model\\coordinate_descent.py:491: ConvergenceWarning: Objective did not converge. You might want to increase the number of iterations. Fitting data with very small alpha may cause precision problems.\n",
      "  ConvergenceWarning)\n"
     ]
    },
    {
     "name": "stderr",
     "output_type": "stream",
     "text": [
      "C:\\Users\\Airflowjhonson\\AppData\\Local\\conda\\conda\\envs\\6341\\lib\\site-packages\\sklearn\\grid_search.py:620: UserWarning: With alpha=0, this algorithm does not converge well. You are advised to use the LinearRegression estimator\n",
      "  best_estimator.fit(X, y, **self.fit_params)\n",
      "C:\\Users\\Airflowjhonson\\AppData\\Local\\conda\\conda\\envs\\6341\\lib\\site-packages\\sklearn\\linear_model\\coordinate_descent.py:477: UserWarning: Coordinate descent with no regularization may lead to unexpected results and is discouraged.\n",
      "  positive)\n",
      "C:\\Users\\Airflowjhonson\\AppData\\Local\\conda\\conda\\envs\\6341\\lib\\site-packages\\sklearn\\linear_model\\coordinate_descent.py:491: ConvergenceWarning: Objective did not converge. You might want to increase the number of iterations. Fitting data with very small alpha may cause precision problems.\n",
      "  ConvergenceWarning)\n"
     ]
    },
    {
     "data": {
      "text/plain": [
       "GridSearchCV(cv=10, error_score='raise',\n",
       "       estimator=Lasso(alpha=1.0, copy_X=True, fit_intercept=True, max_iter=1000,\n",
       "   normalize=False, positive=False, precompute=False, random_state=None,\n",
       "   selection='cyclic', tol=0.0001, warm_start=False),\n",
       "       fit_params={}, iid=True, n_jobs=1,\n",
       "       param_grid={'alpha': array([ 0. ,  0.1,  0.2,  0.3,  0.4,  0.5,  0.6,  0.7,  0.8,  0.9])},\n",
       "       pre_dispatch='2*n_jobs', refit=True, scoring='r2', verbose=0)"
      ]
     },
     "execution_count": 42,
     "metadata": {},
     "output_type": "execute_result"
    }
   ],
   "source": [
    "LR = Lasso()\n",
    "grid = GridSearchCV(LR,LR_param,cv = 10, scoring='r2')\n",
    "grid.fit(X_train_scaled,Y_train)\n"
   ]
  },
  {
   "cell_type": "code",
   "execution_count": 43,
   "metadata": {},
   "outputs": [
    {
     "name": "stdout",
     "output_type": "stream",
     "text": [
      "[0.9923204362220068, 0.9922857968118394, 0.9922207811030979, 0.9921257865180861, 0.9920008130568044, 0.9918457278873891, 0.9916607234176177, 0.9914539875702078, 0.9912365960169437, 0.9910000822690314]\n"
     ]
    },
    {
     "data": {
      "image/png": "[encoded data removed]",
      "text/plain": [
       "<matplotlib.figure.Figure at 0x2581a95dac8>"
      ]
     },
     "metadata": {},
     "output_type": "display_data"
    }
   ],
   "source": [
    "# create a list of the mean scores only\n",
    "# list comprehension to loop through grid.grid_scores\n",
    "grid_mean_scores = [result.mean_validation_score for result in grid.grid_scores_]\n",
    "print(grid_mean_scores)\n",
    "plt.plot(LR_range,grid_mean_scores)\n",
    "plt.xlabel(\"alpha\")\n",
    "plt.ylabel(\"Model Fit\")\n",
    "plt.xticks(np.arange(0,1,0.1))\n",
    "plt.show()"
   ]
  },
  {
   "cell_type": "code",
   "execution_count": 44,
   "metadata": {},
   "outputs": [
    {
     "name": "stdout",
     "output_type": "stream",
     "text": [
      "Lasso(alpha=0.0, copy_X=True, fit_intercept=True, max_iter=1000,\n",
      "   normalize=False, positive=False, precompute=False, random_state=None,\n",
      "   selection='cyclic', tol=0.0001, warm_start=False)\n",
      "Parameters\n",
      "{'alpha': 0.0}\n",
      "\n",
      "CV Validation Score\n",
      "[ 0.98893627  0.99212709  0.98880564  0.99488927  0.99201199  0.99371556\n",
      "  0.99558789  0.99424834  0.9883993   0.99450529]\n",
      "\n",
      "Mean Validation Score\n",
      "0.9923204362220068\n"
     ]
    }
   ],
   "source": [
    "# finding the best parameter for Lasso regression\n",
    "## Checking for best score\n",
    "print(grid.best_estimator_)\n",
    "\n",
    "# examine alpha =1 tuple\n",
    "# we will slice the list and select its elements using dot notation and []\n",
    "\n",
    "\n",
    "print('Parameters')\n",
    "print(grid.grid_scores_[0].parameters)\n",
    "\n",
    "# Array of 10 accuracy scores during 10-fold cv using the parameters\n",
    "print('')\n",
    "print('CV Validation Score')\n",
    "print(grid.grid_scores_[0].cv_validation_scores)\n",
    "\n",
    "# Mean of the 10 scores\n",
    "print('')\n",
    "print('Mean Validation Score')\n",
    "print(grid.grid_scores_[0].mean_validation_score)"
   ]
  },
  {
   "cell_type": "code",
   "execution_count": 45,
   "metadata": {},
   "outputs": [
    {
     "name": "stdout",
     "output_type": "stream",
     "text": [
      "0.992034029336\n",
      "0.992233810506\n"
     ]
    }
   ],
   "source": [
    "# trainning data with best parameter estimates\n",
    "LR = Lasso(alpha = 1.0)\n",
    "LR.fit(X_train_scaled,Y_train)\n",
    "print(LR.score(X_train_scaled,Y_train))\n",
    "print(LR.score(X_validation_scaled,Y_validation))\n",
    "store_accuracy.append(['Lasso',LR.score(X_validation_scaled,Y_validation)])"
   ]
  },
  {
   "cell_type": "code",
   "execution_count": 124,
   "metadata": {},
   "outputs": [
    {
     "data": {
      "text/plain": [
       "array([ 12922.89069443,  12973.95511464,    711.39078214,  -3333.52267599,\n",
       "         2382.47746811,    -81.67738266,      0.17984818,    -91.58250812,\n",
       "        -2303.11622543,   1795.39486948,  -4605.69388996,  -1904.05499985])"
      ]
     },
     "execution_count": 124,
     "metadata": {},
     "output_type": "execute_result"
    }
   ],
   "source": [
    "LR.coef_"
   ]
  },
  {
   "cell_type": "code",
   "execution_count": 107,
   "metadata": {},
   "outputs": [
    {
     "data": {
      "image/png": "[encoded data removed]",
      "text/plain": [
       "<matplotlib.figure.Figure at 0x2581c8fc0b8>"
      ]
     },
     "metadata": {},
     "output_type": "display_data"
    }
   ],
   "source": [
    "#plotting regression output\n",
    "plt.plot(LR.coef_)\n",
    "plt.xlabel(\"PCA Components\")\n",
    "plt.ylabel(\"Co-efficient\")\n",
    "plt.show()"
   ]
  },
  {
   "cell_type": "code",
   "execution_count": 83,
   "metadata": {},
   "outputs": [
    {
     "data": {
      "image/png": "[encoded data removed]",
      "text/plain": [
       "<matplotlib.figure.Figure at 0x2581cb0ef98>"
      ]
     },
     "metadata": {},
     "output_type": "display_data"
    },
    {
     "name": "stdout",
     "output_type": "stream",
     "text": [
      "85.5549588601\n",
      "40041.1352814\n",
      "200.102811778\n"
     ]
    }
   ],
   "source": [
    "LR_pred = pd.DataFrame(LR.predict(X_validation_scaled))\n",
    "plt.scatter(RR_pred,Y_validation)\n",
    "plt.xlabel('Predicted Values')\n",
    "plt.ylabel(\"Actual Values\")\n",
    "plt.show()\n",
    "print(metrics.mean_absolute_error(Y_validation, LR_pred))\n",
    "print(metrics.mean_squared_error(Y_validation, LR_pred))\n",
    "print(np.sqrt(metrics.mean_squared_error(Y_validation, LR_pred)))"
   ]
  },
  {
   "cell_type": "markdown",
   "metadata": {},
   "source": [
    "# Using SVM for model fit\n",
    "- Need to find the optimal values for C and lambda using grid search"
   ]
  },
  {
   "cell_type": "code",
   "execution_count": 46,
   "metadata": {},
   "outputs": [
    {
     "name": "stdout",
     "output_type": "stream",
     "text": [
      "{'C': [1000, 1200, 1500, 1700, 2000, 100000], 'gamma': [0.001, 0.01, 0.05, 0.1, 1, 10, 100]}\n"
     ]
    }
   ],
   "source": [
    "# defining ranges for c and lambda\n",
    "C_range = list([1000,1200,1500,1700,2000,100000])\n",
    "gamma_range = list([0.001,0.01,0.05,0.1,1,10,100])\n",
    "param_grid = dict(gamma = gamma_range,C=C_range)\n",
    "print(param_grid)"
   ]
  },
  {
   "cell_type": "markdown",
   "metadata": {},
   "source": [
    "## Using linear function"
   ]
  },
  {
   "cell_type": "code",
   "execution_count": 47,
   "metadata": {},
   "outputs": [
    {
     "data": {
      "text/plain": [
       "GridSearchCV(cv=10, error_score='raise',\n",
       "       estimator=SVR(C=1.0, cache_size=200, coef0=0.0, degree=3, epsilon=0.1, gamma='auto',\n",
       "  kernel='linear', max_iter=-1, shrinking=True, tol=0.001, verbose=False),\n",
       "       fit_params={}, iid=True, n_jobs=1,\n",
       "       param_grid={'C': [1000, 1200, 1500, 1700, 2000, 100000], 'gamma': [0.001, 0.01, 0.05, 0.1, 1, 10, 100]},\n",
       "       pre_dispatch='2*n_jobs', refit=True, scoring='r2', verbose=0)"
      ]
     },
     "execution_count": 47,
     "metadata": {},
     "output_type": "execute_result"
    }
   ],
   "source": [
    "#mod = SVR(kernel ='linear',gamma = 0,C = 0)\n",
    "svm = SVR(kernel='linear')\n",
    "grid = GridSearchCV(svm,param_grid,cv=10,scoring='r2')\n",
    "grid.fit(X_train_scaled,Y_train.values.ravel())"
   ]
  },
  {
   "cell_type": "code",
   "execution_count": 48,
   "metadata": {},
   "outputs": [
    {
     "name": "stdout",
     "output_type": "stream",
     "text": [
      "[0.9882679181435364, 0.9882679181435364, 0.9882679181435364, 0.9882679181435364, 0.9882679181435364, 0.9882679181435364, 0.9882679181435364, 0.9895175408757569, 0.9895175408757569, 0.9895175408757569, 0.9895175408757569, 0.9895175408757569, 0.9895175408757569, 0.9895175408757569, 0.9901885537134538, 0.9901885537134538, 0.9901885537134538, 0.9901885537134538, 0.9901885537134538, 0.9901885537134538, 0.9901885537134538, 0.9905001120396718, 0.9905001120396718, 0.9905001120396718, 0.9905001120396718, 0.9905001120396718, 0.9905001120396718, 0.9905001120396718, 0.9906328867568227, 0.9906328867568227, 0.9906328867568227, 0.9906328867568227, 0.9906328867568227, 0.9906328867568227, 0.9906328867568227, 0.9919280707487318, 0.9919280707487318, 0.9919280707487318, 0.9919280707487318, 0.9919280707487318, 0.9919280707487318, 0.9919280707487318]\n",
      "{'C': 100000, 'gamma': 0.001}\n"
     ]
    }
   ],
   "source": [
    "# create a list of the mean scores only\n",
    "# list comprehension to loop through grid.grid_scores\n",
    "grid_mean_scores = [result.mean_validation_score for result in grid.grid_scores_]\n",
    "print(grid_mean_scores)\n",
    "print(grid.best_params_)"
   ]
  },
  {
   "cell_type": "code",
   "execution_count": 121,
   "metadata": {},
   "outputs": [
    {
     "name": "stdout",
     "output_type": "stream",
     "text": [
      "0.992731061144\n",
      "0.992679198638\n"
     ]
    }
   ],
   "source": [
    "# using svr wtih best parameter\n",
    "svm = SVR(kernel = 'linear',gamma = 0.001, C = 100000 )\n",
    "svm.fit(X_train_scaled,Y_train.values.ravel())\n",
    "print(svm.score(X_train_scaled,Y_train.values.ravel()))\n",
    "print(svm.score(X_validation_scaled,Y_validation.values.ravel()))\n",
    "store_accuracy.append(['SVM w/ linear',svm.score(X_validation_scaled,Y_validation.values.ravel())])"
   ]
  },
  {
   "cell_type": "code",
   "execution_count": 122,
   "metadata": {},
   "outputs": [
    {
     "data": {
      "image/png": "[encoded data removed]",
      "text/plain": [
       "<matplotlib.figure.Figure at 0x2581cb94160>"
      ]
     },
     "metadata": {},
     "output_type": "display_data"
    },
    {
     "name": "stdout",
     "output_type": "stream",
     "text": [
      "75.1967113393\n",
      "37744.7907933\n",
      "194.280186312\n"
     ]
    }
   ],
   "source": [
    "svm_pred = pd.DataFrame(svm.predict(X_validation_scaled))\n",
    "plt.scatter(svm_pred,Y_validation)\n",
    "plt.xlabel('Predicted Values')\n",
    "plt.ylabel(\"Actual Values\")\n",
    "plt.show()\n",
    "print(metrics.mean_absolute_error(Y_validation, svm_pred))\n",
    "print(metrics.mean_squared_error(Y_validation, svm_pred))\n",
    "print(np.sqrt(metrics.mean_squared_error(Y_validation, svm_pred)))"
   ]
  },
  {
   "cell_type": "markdown",
   "metadata": {},
   "source": [
    "## Using rbf kernel"
   ]
  },
  {
   "cell_type": "code",
   "execution_count": 50,
   "metadata": {},
   "outputs": [
    {
     "name": "stdout",
     "output_type": "stream",
     "text": [
      "{'C': [1500, 1700, 2000, 100000], 'gamma': [0.001, 0.01]}\n"
     ]
    },
    {
     "data": {
      "text/plain": [
       "GridSearchCV(cv=10, error_score='raise',\n",
       "       estimator=SVR(C=1.0, cache_size=200, coef0=0.0, degree=3, epsilon=0.1, gamma='auto',\n",
       "  kernel='rbf', max_iter=-1, shrinking=True, tol=0.001, verbose=False),\n",
       "       fit_params={}, iid=True, n_jobs=1,\n",
       "       param_grid={'C': [1500, 1700, 2000, 100000], 'gamma': [0.001, 0.01]},\n",
       "       pre_dispatch='2*n_jobs', refit=True, scoring='r2', verbose=0)"
      ]
     },
     "execution_count": 50,
     "metadata": {},
     "output_type": "execute_result"
    }
   ],
   "source": [
    "# defining ranges for c and lambda\n",
    "C_range = list([1500,1700,2000,100000])\n",
    "gamma_range = list([0.001,0.01])\n",
    "param_grid = dict(gamma = gamma_range,C=C_range)\n",
    "print(param_grid)\n",
    "svm = SVR(kernel='rbf')\n",
    "grid = GridSearchCV(svm,param_grid,cv=10,scoring='r2')\n",
    "grid.fit(X_train_scaled,Y_train.values.ravel())"
   ]
  },
  {
   "cell_type": "code",
   "execution_count": 51,
   "metadata": {},
   "outputs": [
    {
     "name": "stdout",
     "output_type": "stream",
     "text": [
      "[-0.024168196294733324, 0.234390202838193, -0.018100394558662275, 0.2590055908311078, -0.009198121874246859, 0.2928874717034144, 0.7899084345087685, 0.9907684990843633]\n",
      "{'C': 100000, 'gamma': 0.01}\n"
     ]
    }
   ],
   "source": [
    "# create a list of the mean scores only\n",
    "# list comprehension to loop through grid.grid_scores\n",
    "grid_mean_scores = [result.mean_validation_score for result in grid.grid_scores_]\n",
    "print(grid_mean_scores)\n",
    "print(grid.best_params_)"
   ]
  },
  {
   "cell_type": "code",
   "execution_count": 115,
   "metadata": {},
   "outputs": [
    {
     "name": "stdout",
     "output_type": "stream",
     "text": [
      "0.991615132833\n",
      "0.991776709982\n"
     ]
    }
   ],
   "source": [
    "# using svr wtih best parameter\n",
    "svm = SVR(kernel = 'rbf',gamma = 0.01, C = 100000 )\n",
    "svm.fit(X_train_scaled,Y_train.values.ravel())\n",
    "print(svm.score(X_train_scaled,Y_train.values.ravel()))\n",
    "print(svm.score(X_validation_scaled,Y_validation.values.ravel()))\n",
    "store_accuracy.append(['SVM w/ rbf',svm.score(X_validation_scaled,Y_validation.values.ravel())])"
   ]
  },
  {
   "cell_type": "code",
   "execution_count": 120,
   "metadata": {},
   "outputs": [
    {
     "data": {
      "image/png": "[encoded data removed]",
      "text/plain": [
       "<matplotlib.figure.Figure at 0x2581cb946a0>"
      ]
     },
     "metadata": {},
     "output_type": "display_data"
    },
    {
     "name": "stdout",
     "output_type": "stream",
     "text": [
      "74.4695193034\n",
      "42397.8668448\n",
      "205.907422996\n"
     ]
    }
   ],
   "source": [
    "svm_pred = pd.DataFrame(svm.predict(X_validation_scaled))\n",
    "plt.scatter(svm_pred,Y_validation)\n",
    "plt.xlabel('Predicted Values')\n",
    "plt.ylabel(\"Actual Values\")\n",
    "plt.show()\n",
    "print(metrics.mean_absolute_error(Y_validation, svm_pred))\n",
    "print(metrics.mean_squared_error(Y_validation, svm_pred))\n",
    "print(np.sqrt(metrics.mean_squared_error(Y_validation, svm_pred)))"
   ]
  },
  {
   "cell_type": "markdown",
   "metadata": {},
   "source": [
    "# Using polynomial regression to fit data"
   ]
  },
  {
   "cell_type": "code",
   "execution_count": 53,
   "metadata": {},
   "outputs": [
    {
     "name": "stdout",
     "output_type": "stream",
     "text": [
      "[['Degrees 2', 0.99718734853736191], ['Degrees 3', 0.90781039270952557], ['Degrees 4', -34609956.166621506], ['Degrees 5', -211203.99209890707]]\n"
     ]
    }
   ],
   "source": [
    "accuracy = []\n",
    "test_acc = []\n",
    "for i in range(2,6):\n",
    "    Poly = Pipeline([('poly', PolynomialFeatures(degree=i)),('linear', sklearn.linear_model.LinearRegression())])\n",
    "    Poly.fit(X_train_trans,Y_train)\n",
    "    accuracy.append(['Degrees %s' %i,Poly.score(X_train_trans,Y_train)])\n",
    "    test_acc.append(['Degrees %s' %i,Poly.score(X_validation_trans,Y_validation)]) \n",
    "print(test_acc)"
   ]
  },
  {
   "cell_type": "markdown",
   "metadata": {},
   "source": [
    "#### We get the best accuracy with degree = 2"
   ]
  },
  {
   "cell_type": "code",
   "execution_count": 117,
   "metadata": {},
   "outputs": [
    {
     "name": "stdout",
     "output_type": "stream",
     "text": [
      "0.997187348537\n"
     ]
    }
   ],
   "source": [
    "regr = sklearn.linear_model.LinearRegression()\n",
    "poly = PolynomialFeatures(degree = 2)\n",
    "X_train_trans_ = poly.fit_transform(X_train_trans)\n",
    "X_validation_trans_ = poly.fit_transform(X_validation_trans)\n",
    "regr.fit(X_train_trans_,Y_train)\n",
    "print(regr.score(X_validation_trans_,Y_validation))\n",
    "store_accuracy.append(['polynomial', regr.score(X_validation_trans_,Y_validation)])"
   ]
  },
  {
   "cell_type": "markdown",
   "metadata": {},
   "source": [
    "### Visualizing regression output"
   ]
  },
  {
   "cell_type": "code",
   "execution_count": 119,
   "metadata": {},
   "outputs": [
    {
     "data": {
      "image/png": "[encoded data removed]",
      "text/plain": [
       "<matplotlib.figure.Figure at 0x2581cbc7ef0>"
      ]
     },
     "metadata": {},
     "output_type": "display_data"
    },
    {
     "name": "stdout",
     "output_type": "stream",
     "text": [
      "41.8900934623\n",
      "14501.5464533\n",
      "120.422366914\n"
     ]
    }
   ],
   "source": [
    "regression_pred = pd.DataFrame(regr.predict(X_validation_trans_))\n",
    "plt.scatter(regression_pred,Y_validation)\n",
    "plt.xlabel('Predicted Values')\n",
    "plt.ylabel(\"Actual Values\")\n",
    "plt.show()\n",
    "print(metrics.mean_absolute_error(Y_validation, regression_pred))\n",
    "print(metrics.mean_squared_error(Y_validation, regression_pred))\n",
    "print(np.sqrt(metrics.mean_squared_error(Y_validation, regression_pred)))"
   ]
  },
  {
   "cell_type": "markdown",
   "metadata": {},
   "source": [
    "#### Polynomial regression has the highest accuracy among all the algorithms tested so far"
   ]
  },
  {
   "cell_type": "code",
   "execution_count": 55,
   "metadata": {},
   "outputs": [
    {
     "name": "stdout",
     "output_type": "stream",
     "text": [
      "[['Liner regression', 0.9923226645352774], ['KNN', 0.9884516593698609], ['Ridge', 0.99070832544894438], ['Lasso', 0.99223381050581183], ['SVM w/ linear', 0.99267919863761001], ['SVM w/ rbf', 0.99177670998206546], ['polynomial', 0.99718734853736191]]\n"
     ]
    }
   ],
   "source": [
    "print(store_accuracy)"
   ]
  },
  {
   "cell_type": "markdown",
   "metadata": {},
   "source": [
    "# Importing the test data for final prediction\n",
    "- Polynomial (degree = 2 will be used for the getting the final prediction)"
   ]
  },
  {
   "cell_type": "code",
   "execution_count": 56,
   "metadata": {},
   "outputs": [
    {
     "data": {
      "text/html": [
       "<div>\n",
       "<style>\n",
       "    .dataframe thead tr:only-child th {\n",
       "        text-align: right;\n",
       "    }\n",
       "\n",
       "    .dataframe thead th {\n",
       "        text-align: left;\n",
       "    }\n",
       "\n",
       "    .dataframe tbody tr th {\n",
       "        vertical-align: top;\n",
       "    }\n",
       "</style>\n",
       "<table border=\"1\" class=\"dataframe\">\n",
       "  <thead>\n",
       "    <tr style=\"text-align: right;\">\n",
       "      <th></th>\n",
       "      <th>Date</th>\n",
       "      <th>btc_total_bitcoins</th>\n",
       "      <th>btc_market_cap</th>\n",
       "      <th>btc_trade_volume</th>\n",
       "      <th>btc_blocks_size</th>\n",
       "      <th>btc_avg_block_size</th>\n",
       "      <th>btc_n_orphaned_blocks</th>\n",
       "      <th>btc_n_transactions_per_block</th>\n",
       "      <th>btc_median_confirmation_time</th>\n",
       "      <th>btc_hash_rate</th>\n",
       "      <th>...</th>\n",
       "      <th>btc_cost_per_transaction_percent</th>\n",
       "      <th>btc_cost_per_transaction</th>\n",
       "      <th>btc_n_unique_addresses</th>\n",
       "      <th>btc_n_transactions</th>\n",
       "      <th>btc_n_transactions_total</th>\n",
       "      <th>btc_n_transactions_excluding_popular</th>\n",
       "      <th>btc_n_transactions_excluding_chains_longer_than_100</th>\n",
       "      <th>btc_output_volume</th>\n",
       "      <th>btc_estimated_transaction_volume</th>\n",
       "      <th>btc_estimated_transaction_volume_usd</th>\n",
       "    </tr>\n",
       "  </thead>\n",
       "  <tbody>\n",
       "    <tr>\n",
       "      <th>0</th>\n",
       "      <td>2/1/2018 0:00</td>\n",
       "      <td>16839687.5</td>\n",
       "      <td>1.529590e+11</td>\n",
       "      <td>1.509688e+09</td>\n",
       "      <td>154613.2244</td>\n",
       "      <td>1.053963</td>\n",
       "      <td>0</td>\n",
       "      <td>1610.400000</td>\n",
       "      <td>12.475000</td>\n",
       "      <td>20703947.91</td>\n",
       "      <td>...</td>\n",
       "      <td>0.799509</td>\n",
       "      <td>78.049647</td>\n",
       "      <td>591550</td>\n",
       "      <td>257664</td>\n",
       "      <td>296946448</td>\n",
       "      <td>249466</td>\n",
       "      <td>179686</td>\n",
       "      <td>2.190613e+06</td>\n",
       "      <td>276923.3207</td>\n",
       "      <td>2.515366e+09</td>\n",
       "    </tr>\n",
       "    <tr>\n",
       "      <th>1</th>\n",
       "      <td>2/2/2018 0:00</td>\n",
       "      <td>16841787.5</td>\n",
       "      <td>1.499240e+11</td>\n",
       "      <td>2.213437e+09</td>\n",
       "      <td>154785.0008</td>\n",
       "      <td>1.022479</td>\n",
       "      <td>0</td>\n",
       "      <td>1404.273810</td>\n",
       "      <td>11.225000</td>\n",
       "      <td>21739145.31</td>\n",
       "      <td>...</td>\n",
       "      <td>0.717894</td>\n",
       "      <td>89.591902</td>\n",
       "      <td>551198</td>\n",
       "      <td>235918</td>\n",
       "      <td>297182366</td>\n",
       "      <td>229894</td>\n",
       "      <td>155128</td>\n",
       "      <td>1.460796e+06</td>\n",
       "      <td>330740.2192</td>\n",
       "      <td>2.944217e+09</td>\n",
       "    </tr>\n",
       "    <tr>\n",
       "      <th>2</th>\n",
       "      <td>2/3/2018 0:00</td>\n",
       "      <td>16843762.5</td>\n",
       "      <td>1.528850e+11</td>\n",
       "      <td>9.524038e+08</td>\n",
       "      <td>154942.4583</td>\n",
       "      <td>0.996567</td>\n",
       "      <td>0</td>\n",
       "      <td>1233.487342</td>\n",
       "      <td>10.475000</td>\n",
       "      <td>20445148.56</td>\n",
       "      <td>...</td>\n",
       "      <td>1.290914</td>\n",
       "      <td>98.824757</td>\n",
       "      <td>436196</td>\n",
       "      <td>194891</td>\n",
       "      <td>297377257</td>\n",
       "      <td>184856</td>\n",
       "      <td>131568</td>\n",
       "      <td>9.100425e+05</td>\n",
       "      <td>164374.0244</td>\n",
       "      <td>1.491970e+09</td>\n",
       "    </tr>\n",
       "    <tr>\n",
       "      <th>3</th>\n",
       "      <td>2/4/2018 0:00</td>\n",
       "      <td>16845987.5</td>\n",
       "      <td>1.415170e+11</td>\n",
       "      <td>1.080683e+09</td>\n",
       "      <td>155118.7652</td>\n",
       "      <td>0.990488</td>\n",
       "      <td>0</td>\n",
       "      <td>975.769663</td>\n",
       "      <td>9.275000</td>\n",
       "      <td>23033142.05</td>\n",
       "      <td>...</td>\n",
       "      <td>1.208997</td>\n",
       "      <td>112.999677</td>\n",
       "      <td>396694</td>\n",
       "      <td>173687</td>\n",
       "      <td>297550944</td>\n",
       "      <td>165753</td>\n",
       "      <td>125143</td>\n",
       "      <td>9.722485e+05</td>\n",
       "      <td>193244.2140</td>\n",
       "      <td>1.623377e+09</td>\n",
       "    </tr>\n",
       "    <tr>\n",
       "      <th>4</th>\n",
       "      <td>2/5/2018 0:00</td>\n",
       "      <td>16848300.0</td>\n",
       "      <td>1.152220e+11</td>\n",
       "      <td>1.793319e+09</td>\n",
       "      <td>155322.7709</td>\n",
       "      <td>1.102733</td>\n",
       "      <td>0</td>\n",
       "      <td>1169.529730</td>\n",
       "      <td>6.133333</td>\n",
       "      <td>23938939.78</td>\n",
       "      <td>...</td>\n",
       "      <td>0.967008</td>\n",
       "      <td>78.586115</td>\n",
       "      <td>486553</td>\n",
       "      <td>216363</td>\n",
       "      <td>297767307</td>\n",
       "      <td>208757</td>\n",
       "      <td>144850</td>\n",
       "      <td>1.848913e+06</td>\n",
       "      <td>257109.2993</td>\n",
       "      <td>1.758323e+09</td>\n",
       "    </tr>\n",
       "  </tbody>\n",
       "</table>\n",
       "<p>5 rows × 23 columns</p>\n",
       "</div>"
      ],
      "text/plain": [
       "            Date  btc_total_bitcoins  btc_market_cap  btc_trade_volume  \\\n",
       "0  2/1/2018 0:00          16839687.5    1.529590e+11      1.509688e+09   \n",
       "1  2/2/2018 0:00          16841787.5    1.499240e+11      2.213437e+09   \n",
       "2  2/3/2018 0:00          16843762.5    1.528850e+11      9.524038e+08   \n",
       "3  2/4/2018 0:00          16845987.5    1.415170e+11      1.080683e+09   \n",
       "4  2/5/2018 0:00          16848300.0    1.152220e+11      1.793319e+09   \n",
       "\n",
       "   btc_blocks_size  btc_avg_block_size  btc_n_orphaned_blocks  \\\n",
       "0      154613.2244            1.053963                      0   \n",
       "1      154785.0008            1.022479                      0   \n",
       "2      154942.4583            0.996567                      0   \n",
       "3      155118.7652            0.990488                      0   \n",
       "4      155322.7709            1.102733                      0   \n",
       "\n",
       "   btc_n_transactions_per_block  btc_median_confirmation_time  btc_hash_rate  \\\n",
       "0                   1610.400000                     12.475000    20703947.91   \n",
       "1                   1404.273810                     11.225000    21739145.31   \n",
       "2                   1233.487342                     10.475000    20445148.56   \n",
       "3                    975.769663                      9.275000    23033142.05   \n",
       "4                   1169.529730                      6.133333    23938939.78   \n",
       "\n",
       "                   ...                   btc_cost_per_transaction_percent  \\\n",
       "0                  ...                                           0.799509   \n",
       "1                  ...                                           0.717894   \n",
       "2                  ...                                           1.290914   \n",
       "3                  ...                                           1.208997   \n",
       "4                  ...                                           0.967008   \n",
       "\n",
       "   btc_cost_per_transaction  btc_n_unique_addresses  btc_n_transactions  \\\n",
       "0                 78.049647                  591550              257664   \n",
       "1                 89.591902                  551198              235918   \n",
       "2                 98.824757                  436196              194891   \n",
       "3                112.999677                  396694              173687   \n",
       "4                 78.586115                  486553              216363   \n",
       "\n",
       "   btc_n_transactions_total  btc_n_transactions_excluding_popular  \\\n",
       "0                 296946448                                249466   \n",
       "1                 297182366                                229894   \n",
       "2                 297377257                                184856   \n",
       "3                 297550944                                165753   \n",
       "4                 297767307                                208757   \n",
       "\n",
       "   btc_n_transactions_excluding_chains_longer_than_100  btc_output_volume  \\\n",
       "0                                             179686         2.190613e+06   \n",
       "1                                             155128         1.460796e+06   \n",
       "2                                             131568         9.100425e+05   \n",
       "3                                             125143         9.722485e+05   \n",
       "4                                             144850         1.848913e+06   \n",
       "\n",
       "   btc_estimated_transaction_volume  btc_estimated_transaction_volume_usd  \n",
       "0                       276923.3207                          2.515366e+09  \n",
       "1                       330740.2192                          2.944217e+09  \n",
       "2                       164374.0244                          1.491970e+09  \n",
       "3                       193244.2140                          1.623377e+09  \n",
       "4                       257109.2993                          1.758323e+09  \n",
       "\n",
       "[5 rows x 23 columns]"
      ]
     },
     "execution_count": 56,
     "metadata": {},
     "output_type": "execute_result"
    }
   ],
   "source": [
    "testData.head()"
   ]
  },
  {
   "cell_type": "code",
   "execution_count": 57,
   "metadata": {},
   "outputs": [
    {
     "data": {
      "text/plain": [
       "Date                                                   0\n",
       "btc_total_bitcoins                                     0\n",
       "btc_market_cap                                         0\n",
       "btc_trade_volume                                       0\n",
       "btc_blocks_size                                        0\n",
       "btc_avg_block_size                                     0\n",
       "btc_n_orphaned_blocks                                  0\n",
       "btc_n_transactions_per_block                           0\n",
       "btc_median_confirmation_time                           0\n",
       "btc_hash_rate                                          0\n",
       "btc_difficulty                                         0\n",
       "btc_miners_revenue                                     0\n",
       "btc_transaction_fees                                   0\n",
       "btc_cost_per_transaction_percent                       0\n",
       "btc_cost_per_transaction                               0\n",
       "btc_n_unique_addresses                                 0\n",
       "btc_n_transactions                                     0\n",
       "btc_n_transactions_total                               0\n",
       "btc_n_transactions_excluding_popular                   0\n",
       "btc_n_transactions_excluding_chains_longer_than_100    0\n",
       "btc_output_volume                                      0\n",
       "btc_estimated_transaction_volume                       0\n",
       "btc_estimated_transaction_volume_usd                   0\n",
       "dtype: int64"
      ]
     },
     "execution_count": 57,
     "metadata": {},
     "output_type": "execute_result"
    }
   ],
   "source": [
    "testData.isnull().sum()"
   ]
  },
  {
   "cell_type": "code",
   "execution_count": 58,
   "metadata": {},
   "outputs": [
    {
     "name": "stdout",
     "output_type": "stream",
     "text": [
      "(14, 23)\n",
      "(2906, 25)\n"
     ]
    },
    {
     "data": {
      "text/html": [
       "<div>\n",
       "<style>\n",
       "    .dataframe thead tr:only-child th {\n",
       "        text-align: right;\n",
       "    }\n",
       "\n",
       "    .dataframe thead th {\n",
       "        text-align: left;\n",
       "    }\n",
       "\n",
       "    .dataframe tbody tr th {\n",
       "        vertical-align: top;\n",
       "    }\n",
       "</style>\n",
       "<table border=\"1\" class=\"dataframe\">\n",
       "  <thead>\n",
       "    <tr style=\"text-align: right;\">\n",
       "      <th></th>\n",
       "      <th>btc_total_bitcoins</th>\n",
       "      <th>btc_market_cap</th>\n",
       "      <th>btc_trade_volume</th>\n",
       "      <th>btc_blocks_size</th>\n",
       "      <th>btc_avg_block_size</th>\n",
       "      <th>btc_n_orphaned_blocks</th>\n",
       "      <th>btc_n_transactions_per_block</th>\n",
       "      <th>btc_median_confirmation_time</th>\n",
       "      <th>btc_hash_rate</th>\n",
       "      <th>btc_difficulty</th>\n",
       "      <th>...</th>\n",
       "      <th>btc_cost_per_transaction_percent</th>\n",
       "      <th>btc_cost_per_transaction</th>\n",
       "      <th>btc_n_unique_addresses</th>\n",
       "      <th>btc_n_transactions</th>\n",
       "      <th>btc_n_transactions_total</th>\n",
       "      <th>btc_n_transactions_excluding_popular</th>\n",
       "      <th>btc_n_transactions_excluding_chains_longer_than_100</th>\n",
       "      <th>btc_output_volume</th>\n",
       "      <th>btc_estimated_transaction_volume</th>\n",
       "      <th>btc_estimated_transaction_volume_usd</th>\n",
       "    </tr>\n",
       "  </thead>\n",
       "  <tbody>\n",
       "    <tr>\n",
       "      <th>0</th>\n",
       "      <td>16839687.5</td>\n",
       "      <td>1.529590e+11</td>\n",
       "      <td>1.509688e+09</td>\n",
       "      <td>154613.2244</td>\n",
       "      <td>1.053963</td>\n",
       "      <td>0</td>\n",
       "      <td>1610.400000</td>\n",
       "      <td>12.475000</td>\n",
       "      <td>20703947.91</td>\n",
       "      <td>2.603080e+12</td>\n",
       "      <td>...</td>\n",
       "      <td>0.799509</td>\n",
       "      <td>78.049647</td>\n",
       "      <td>591550</td>\n",
       "      <td>257664</td>\n",
       "      <td>296946448</td>\n",
       "      <td>249466</td>\n",
       "      <td>179686</td>\n",
       "      <td>2.190613e+06</td>\n",
       "      <td>276923.3207</td>\n",
       "      <td>2.515366e+09</td>\n",
       "    </tr>\n",
       "    <tr>\n",
       "      <th>1</th>\n",
       "      <td>16841787.5</td>\n",
       "      <td>1.499240e+11</td>\n",
       "      <td>2.213437e+09</td>\n",
       "      <td>154785.0008</td>\n",
       "      <td>1.022479</td>\n",
       "      <td>0</td>\n",
       "      <td>1404.273810</td>\n",
       "      <td>11.225000</td>\n",
       "      <td>21739145.31</td>\n",
       "      <td>2.603080e+12</td>\n",
       "      <td>...</td>\n",
       "      <td>0.717894</td>\n",
       "      <td>89.591902</td>\n",
       "      <td>551198</td>\n",
       "      <td>235918</td>\n",
       "      <td>297182366</td>\n",
       "      <td>229894</td>\n",
       "      <td>155128</td>\n",
       "      <td>1.460796e+06</td>\n",
       "      <td>330740.2192</td>\n",
       "      <td>2.944217e+09</td>\n",
       "    </tr>\n",
       "    <tr>\n",
       "      <th>2</th>\n",
       "      <td>16843762.5</td>\n",
       "      <td>1.528850e+11</td>\n",
       "      <td>9.524038e+08</td>\n",
       "      <td>154942.4583</td>\n",
       "      <td>0.996567</td>\n",
       "      <td>0</td>\n",
       "      <td>1233.487342</td>\n",
       "      <td>10.475000</td>\n",
       "      <td>20445148.56</td>\n",
       "      <td>2.603080e+12</td>\n",
       "      <td>...</td>\n",
       "      <td>1.290914</td>\n",
       "      <td>98.824757</td>\n",
       "      <td>436196</td>\n",
       "      <td>194891</td>\n",
       "      <td>297377257</td>\n",
       "      <td>184856</td>\n",
       "      <td>131568</td>\n",
       "      <td>9.100425e+05</td>\n",
       "      <td>164374.0244</td>\n",
       "      <td>1.491970e+09</td>\n",
       "    </tr>\n",
       "    <tr>\n",
       "      <th>3</th>\n",
       "      <td>16845987.5</td>\n",
       "      <td>1.415170e+11</td>\n",
       "      <td>1.080683e+09</td>\n",
       "      <td>155118.7652</td>\n",
       "      <td>0.990488</td>\n",
       "      <td>0</td>\n",
       "      <td>975.769663</td>\n",
       "      <td>9.275000</td>\n",
       "      <td>23033142.05</td>\n",
       "      <td>2.603080e+12</td>\n",
       "      <td>...</td>\n",
       "      <td>1.208997</td>\n",
       "      <td>112.999677</td>\n",
       "      <td>396694</td>\n",
       "      <td>173687</td>\n",
       "      <td>297550944</td>\n",
       "      <td>165753</td>\n",
       "      <td>125143</td>\n",
       "      <td>9.722485e+05</td>\n",
       "      <td>193244.2140</td>\n",
       "      <td>1.623377e+09</td>\n",
       "    </tr>\n",
       "    <tr>\n",
       "      <th>4</th>\n",
       "      <td>16848300.0</td>\n",
       "      <td>1.152220e+11</td>\n",
       "      <td>1.793319e+09</td>\n",
       "      <td>155322.7709</td>\n",
       "      <td>1.102733</td>\n",
       "      <td>0</td>\n",
       "      <td>1169.529730</td>\n",
       "      <td>6.133333</td>\n",
       "      <td>23938939.78</td>\n",
       "      <td>2.603080e+12</td>\n",
       "      <td>...</td>\n",
       "      <td>0.967008</td>\n",
       "      <td>78.586115</td>\n",
       "      <td>486553</td>\n",
       "      <td>216363</td>\n",
       "      <td>297767307</td>\n",
       "      <td>208757</td>\n",
       "      <td>144850</td>\n",
       "      <td>1.848913e+06</td>\n",
       "      <td>257109.2993</td>\n",
       "      <td>1.758323e+09</td>\n",
       "    </tr>\n",
       "  </tbody>\n",
       "</table>\n",
       "<p>5 rows × 22 columns</p>\n",
       "</div>"
      ],
      "text/plain": [
       "   btc_total_bitcoins  btc_market_cap  btc_trade_volume  btc_blocks_size  \\\n",
       "0          16839687.5    1.529590e+11      1.509688e+09      154613.2244   \n",
       "1          16841787.5    1.499240e+11      2.213437e+09      154785.0008   \n",
       "2          16843762.5    1.528850e+11      9.524038e+08      154942.4583   \n",
       "3          16845987.5    1.415170e+11      1.080683e+09      155118.7652   \n",
       "4          16848300.0    1.152220e+11      1.793319e+09      155322.7709   \n",
       "\n",
       "   btc_avg_block_size  btc_n_orphaned_blocks  btc_n_transactions_per_block  \\\n",
       "0            1.053963                      0                   1610.400000   \n",
       "1            1.022479                      0                   1404.273810   \n",
       "2            0.996567                      0                   1233.487342   \n",
       "3            0.990488                      0                    975.769663   \n",
       "4            1.102733                      0                   1169.529730   \n",
       "\n",
       "   btc_median_confirmation_time  btc_hash_rate  btc_difficulty  \\\n",
       "0                     12.475000    20703947.91    2.603080e+12   \n",
       "1                     11.225000    21739145.31    2.603080e+12   \n",
       "2                     10.475000    20445148.56    2.603080e+12   \n",
       "3                      9.275000    23033142.05    2.603080e+12   \n",
       "4                      6.133333    23938939.78    2.603080e+12   \n",
       "\n",
       "                   ...                   btc_cost_per_transaction_percent  \\\n",
       "0                  ...                                           0.799509   \n",
       "1                  ...                                           0.717894   \n",
       "2                  ...                                           1.290914   \n",
       "3                  ...                                           1.208997   \n",
       "4                  ...                                           0.967008   \n",
       "\n",
       "   btc_cost_per_transaction  btc_n_unique_addresses  btc_n_transactions  \\\n",
       "0                 78.049647                  591550              257664   \n",
       "1                 89.591902                  551198              235918   \n",
       "2                 98.824757                  436196              194891   \n",
       "3                112.999677                  396694              173687   \n",
       "4                 78.586115                  486553              216363   \n",
       "\n",
       "   btc_n_transactions_total  btc_n_transactions_excluding_popular  \\\n",
       "0                 296946448                                249466   \n",
       "1                 297182366                                229894   \n",
       "2                 297377257                                184856   \n",
       "3                 297550944                                165753   \n",
       "4                 297767307                                208757   \n",
       "\n",
       "   btc_n_transactions_excluding_chains_longer_than_100  btc_output_volume  \\\n",
       "0                                             179686         2.190613e+06   \n",
       "1                                             155128         1.460796e+06   \n",
       "2                                             131568         9.100425e+05   \n",
       "3                                             125143         9.722485e+05   \n",
       "4                                             144850         1.848913e+06   \n",
       "\n",
       "   btc_estimated_transaction_volume  btc_estimated_transaction_volume_usd  \n",
       "0                       276923.3207                          2.515366e+09  \n",
       "1                       330740.2192                          2.944217e+09  \n",
       "2                       164374.0244                          1.491970e+09  \n",
       "3                       193244.2140                          1.623377e+09  \n",
       "4                       257109.2993                          1.758323e+09  \n",
       "\n",
       "[5 rows x 22 columns]"
      ]
     },
     "execution_count": 58,
     "metadata": {},
     "output_type": "execute_result"
    }
   ],
   "source": [
    "print(testData.shape)\n",
    "print(data.shape)\n",
    "test = testData.iloc[:,1:23]\n",
    "test.head()"
   ]
  },
  {
   "cell_type": "markdown",
   "metadata": {},
   "source": [
    "#### Applying all the necessay transformation on the test data before we run final predictions\n",
    "- Scaler() for standardization\n",
    "- PCA transformations and plynomial tranformation\n",
    "- Trainning the model on entire data set \n",
    "- Final Prediction"
   ]
  },
  {
   "cell_type": "code",
   "execution_count": 59,
   "metadata": {},
   "outputs": [
    {
     "data": {
      "text/plain": [
       "0.9992929364401677"
      ]
     },
     "execution_count": 59,
     "metadata": {},
     "output_type": "execute_result"
    }
   ],
   "source": [
    "# trainning model on the entire data set\n",
    "train_std = std.transform(X)\n",
    "train_trans = trans.transform(train_std)\n",
    "\n",
    "#Model fit using polynomial regression\n",
    "poly = PolynomialFeatures(degree = 2)\n",
    "train_trans_ = poly.fit_transform(train_trans)\n",
    "\n",
    "#initializing linear regression\n",
    "regr = sklearn.linear_model.LinearRegression()\n",
    "regr.fit(train_trans_,Y)\n",
    "regr.score(train_trans_,Y)"
   ]
  },
  {
   "cell_type": "markdown",
   "metadata": {},
   "source": [
    "## Final prediction using polynomial regression"
   ]
  },
  {
   "cell_type": "code",
   "execution_count": 60,
   "metadata": {},
   "outputs": [
    {
     "name": "stdout",
     "output_type": "stream",
     "text": [
      "[[ 8692.08689254]\n",
      " [ 8132.71002822]\n",
      " [ 9080.24672337]\n",
      " [ 8057.27705961]\n",
      " [ 6482.26254511]\n",
      " [ 6773.55280981]\n",
      " [ 8071.70199761]\n",
      " [ 8306.5117365 ]\n",
      " [ 8577.27506382]\n",
      " [ 8289.4971638 ]\n",
      " [ 8077.57555903]\n",
      " [ 8661.76043916]\n",
      " [ 8647.15335414]\n",
      " [ 9072.61942314]]\n"
     ]
    }
   ],
   "source": [
    "test_std = std.transform(test)\n",
    "testData_trans = trans.transform(test_std)\n",
    "testData_trans_ = poly.fit_transform(testData_trans)\n",
    "pred = regr.predict(testData_trans_)\n",
    "print(pred)"
   ]
  }
 ],
 "metadata": {
  "kernelspec": {
   "display_name": "Python 3",
   "language": "python",
   "name": "python3"
  },
  "language_info": {
   "codemirror_mode": {
    "name": "ipython",
    "version": 3
   },
   "file_extension": ".py",
   "mimetype": "text/x-python",
   "name": "python",
   "nbconvert_exporter": "python",
   "pygments_lexer": "ipython3",
   "version": "3.6.5"
  }
 },
 "nbformat": 4,
 "nbformat_minor": 2
}
